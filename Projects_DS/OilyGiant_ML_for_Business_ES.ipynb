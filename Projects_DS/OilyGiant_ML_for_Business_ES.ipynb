{
 "cells": [
  {
   "cell_type": "markdown",
   "metadata": {},
   "source": [
    "# OilyGiant Project || Machine Learning for Business\n",
    "---\n",
    "\n",
    "*Fecha de Creación: Feb-2023*\n",
    "\n",
    "- **Senior Data Science:** Francisco Alfaro\n",
    "- **Supported:** Alfonso Tobar\n",
    "- **Code Reviewer:** Marcos Torres\n",
    "- **NoteBook by:** Julio César Martínez\n",
    "\n",
    "\n",
    "# Tabla de Contenido\n",
    "\n",
    "---\n",
    "\n",
    "1. Introducción.\n",
    "2. Licencia.\n",
    "3. Librerías Requeridas.\n",
    "4. Problemática.\n",
    "5. Respuesta de la Problemática.\n",
    "6. Etapa Uno: Preparación de los Datos.\n",
    "7. Etapa Dos: Entrena y prueba el modelo para cada región.\n",
    "8. Etapa Tres: Cálculo de ganancias.\n",
    "9. Etapa Cuatro: Boostrap.\n",
    "10. Etapa Cinco: Reporte.\n",
    "10. Conclusiones.\n",
    "11. Bibliografía.\n",
    "12. Agradecimientos.\n",
    "\n",
    "\n",
    "## || Introducción.\n",
    "\n",
    "---\n",
    "\n",
    "El petróleo es, actualmente, la principal fuente de energía, y la materia prima más importante objeto de comercio entre los países. Más de la mitad de la energía que mantiene en actividad a nuestra civilización proviene de esta fuente energética no renovable. Se trata, entonces, de un recurso estratégico cuya carencia provocaría el declive de la economía mundial.\n",
    "\n",
    "Hay inmensas zonas de origen sedimentario en las que se supone que pueden haber grandes yacimientos todavía por explotar como, por ejemplo, en el Ártico, Alaska, Canadá, Groenlandia o Siberia. Se ha calculado que las reservas totales de petróleo en el planeta suman unos 150.000 millones de Tep (Tonelada equivalente de petróleo), una quinta parte de las que –unas 100 Gt– son actualmente rentables para las técnicas modernas de extracción.\n",
    "\n",
    "Después de un aislamiento subterráneo de millones de años, al ser extraído, inicia un largo viaje que lo llevará a miles de kilómetros de distancia de su lugar de origen, y a diversos lugares del mundo. Barcos superpetroleros y extensas tuberías de transporte lo ponen al alcance de los grandes centros de consumo, donde será tratado para extraer sus valiosos componentes e incorporarlo a la cadena productiva humana.\n",
    "\n",
    "Este esto último es el caso del proyecto que realizaremos en este notebook."
   ]
  },
  {
   "cell_type": "markdown",
   "metadata": {},
   "source": [
    "## || Licencia.\n",
    "---\n",
    "\n",
    "Este notebook fue creado para la practica profesional de habilidades en ciencia de adtos y es propiedad de su creador. Queda prohibida su venta, copia, distribución, modificación y/o cualquier uso indevido e ilegial de este así como la base de datos (dataset) proporcionada por OilyGiant. Si existe alguna duda o aclaración con respecto a este ejercicio puedes ponerte en contacto con el creador para dar solución."
   ]
  },
  {
   "cell_type": "markdown",
   "metadata": {},
   "source": [
    "## || Librerías Requeridas.\n",
    "\n",
    "---\n",
    "\n",
    "Para este proyecto en este nootebook utilizamos diferentes librerías de python como son:\n",
    "\n",
    "- Pandas.\n",
    "- NumPy.\n",
    "- Scikit-Learn.\n",
    "- Matplotlib.\n",
    "- Seaborn."
   ]
  },
  {
   "cell_type": "markdown",
   "metadata": {},
   "source": [
    "## || Problemática.\n",
    "\n",
    "---\n",
    "\n",
    "La compañía minera **OilyGiant** desea invertir en un nuevo yacimiento de petreoleo pero no está segura de hacerlo sin antes calcular el riesgo que conlleva esta inversión al ubicar el nuevo pozo.\n",
    "\n",
    "OilyGiant nos ha proporcionado datos sobre muestras de crudo de tres regiones. Ya se conocen los parámetros de cada pozo petrolero de la región. Debemos crea un modelo que ayude a elegir la región con el mayor margen de beneficio. Analizaré los beneficios y riesgos potenciales utilizando la técnica bootstrapping.\n",
    "\n",
    "Condiciones:\n",
    "\n",
    "- Solo la regresión lineal es adecuada para el entrenamiento de modelos (el resto no son lo suficientemente predecibles).\n",
    "- Al explorar la región, se lleva a cabo un estudio de 500 puntos con la selección de los mejores 200 puntos para el cálculo del beneficio.\n",
    "- El presupuesto para el desarrollo de 200 pozos petroleros es de 100 millones de dólares.\n",
    "- Un barril de materias primas genera 4.5 USD de ingresos. El ingreso de una unidad de producto es de 4500 dólares (el volumen de reservas está expresado en miles de barriles).\n",
    "- Después de la evaluación de riesgo, mantén solo las regiones con riesgo de pérdidas inferior al 2.5%. De las que se ajustan a los criterios, se debe seleccionar la región con el beneficio promedio más alto.\n",
    "- Los datos son sintéticos: los detalles del contrato y las características del pozo no se publican."
   ]
  },
  {
   "cell_type": "markdown",
   "metadata": {},
   "source": [
    "## || Respuesta.\n",
    "\n",
    "---\n",
    "\n",
    "Vamos ayudar en las tareas de ubicación para encontrar el mejor lugar donde ubicar este nuevo pozo. Para ello realizaremos el siguiente proceso:\n",
    "\n",
    "Pasos para elegir la ubicación:\n",
    "\n",
    "- Recolectar los parámetros del pozo de petróleo en la región seleccionada: calidad del petróleo y volumen de reservas;\n",
    "- Construiré un modelo para predecir el volumen de reservas en los nuevos pozos;\n",
    "- Seleccionaré los pozos de petróleo con los valores estimados más altos;\n",
    "- Finalmente escogeré la región con el mayor beneficio total para los pozos de petróleo seleccionados.\n",
    "\n",
    "En la tabla de contenidos puedes ver el proceso paso a paso de cómo resolví este proyecto."
   ]
  },
  {
   "cell_type": "markdown",
   "metadata": {},
   "source": [
    "## || Etapa Uno - Preparación de Datos.\n",
    "---"
   ]
  },
  {
   "cell_type": "markdown",
   "metadata": {},
   "source": [
    "Importar Librerías."
   ]
  },
  {
   "cell_type": "code",
   "execution_count": 1,
   "metadata": {},
   "outputs": [],
   "source": [
    "import pandas as pd\n",
    "import numpy as np\n",
    "import matplotlib.pyplot as plt\n",
    "%matplotlib inline\n",
    "from sklearn.model_selection import train_test_split\n",
    "from sklearn.linear_model import LinearRegression\n",
    "from sklearn.metrics import mean_squared_error"
   ]
  },
  {
   "cell_type": "markdown",
   "metadata": {},
   "source": [
    "Importar Datasets"
   ]
  },
  {
   "cell_type": "code",
   "execution_count": 2,
   "metadata": {},
   "outputs": [],
   "source": [
    "data_1 = pd.read_csv('/datasets/geo_data_0.csv')\n",
    "data_2 = pd.read_csv('/datasets/geo_data_1.csv')\n",
    "data_3 = pd.read_csv('/datasets/geo_data_2.csv')"
   ]
  },
  {
   "cell_type": "markdown",
   "metadata": {},
   "source": [
    "Tamaño de los Datasets."
   ]
  },
  {
   "cell_type": "code",
   "execution_count": 3,
   "metadata": {},
   "outputs": [
    {
     "name": "stdout",
     "output_type": "stream",
     "text": [
      "Tamaño del 1er Dataset: (100000, 5)\n",
      "Tamaño del 2do Dataset: (100000, 5)\n",
      "Tamaño del 3er Dataset: (100000, 5)\n"
     ]
    }
   ],
   "source": [
    "print('Tamaño del 1er Dataset:', data_1.shape)\n",
    "print('Tamaño del 2do Dataset:', data_2.shape)\n",
    "print('Tamaño del 3er Dataset:', data_3.shape)"
   ]
  },
  {
   "cell_type": "markdown",
   "metadata": {},
   "source": [
    "Tipo de Datos."
   ]
  },
  {
   "cell_type": "code",
   "execution_count": 4,
   "metadata": {},
   "outputs": [
    {
     "name": "stdout",
     "output_type": "stream",
     "text": [
      "Dataset 1: id          object\n",
      "f0         float64\n",
      "f1         float64\n",
      "f2         float64\n",
      "product    float64\n",
      "dtype: object\n",
      "\n",
      "\n",
      "Dataset 2: id          object\n",
      "f0         float64\n",
      "f1         float64\n",
      "f2         float64\n",
      "product    float64\n",
      "dtype: object\n",
      "\n",
      "\n",
      "Dataset 3: id          object\n",
      "f0         float64\n",
      "f1         float64\n",
      "f2         float64\n",
      "product    float64\n",
      "dtype: object\n"
     ]
    }
   ],
   "source": [
    "print('Dataset 1:', data_1.dtypes)\n",
    "print('\\n')\n",
    "print('Dataset 2:', data_2.dtypes)\n",
    "print('\\n')\n",
    "print('Dataset 3:', data_3.dtypes)"
   ]
  },
  {
   "cell_type": "markdown",
   "metadata": {},
   "source": [
    "Información General."
   ]
  },
  {
   "cell_type": "code",
   "execution_count": 5,
   "metadata": {},
   "outputs": [
    {
     "name": "stdout",
     "output_type": "stream",
     "text": [
      "<class 'pandas.core.frame.DataFrame'>\n",
      "RangeIndex: 100000 entries, 0 to 99999\n",
      "Data columns (total 5 columns):\n",
      " #   Column   Non-Null Count   Dtype  \n",
      "---  ------   --------------   -----  \n",
      " 0   id       100000 non-null  object \n",
      " 1   f0       100000 non-null  float64\n",
      " 2   f1       100000 non-null  float64\n",
      " 3   f2       100000 non-null  float64\n",
      " 4   product  100000 non-null  float64\n",
      "dtypes: float64(4), object(1)\n",
      "memory usage: 3.8+ MB\n",
      "Dataset 1: None\n",
      "\n",
      "\n",
      "<class 'pandas.core.frame.DataFrame'>\n",
      "RangeIndex: 100000 entries, 0 to 99999\n",
      "Data columns (total 5 columns):\n",
      " #   Column   Non-Null Count   Dtype  \n",
      "---  ------   --------------   -----  \n",
      " 0   id       100000 non-null  object \n",
      " 1   f0       100000 non-null  float64\n",
      " 2   f1       100000 non-null  float64\n",
      " 3   f2       100000 non-null  float64\n",
      " 4   product  100000 non-null  float64\n",
      "dtypes: float64(4), object(1)\n",
      "memory usage: 3.8+ MB\n",
      "Dataset 2: None\n",
      "\n",
      "\n",
      "<class 'pandas.core.frame.DataFrame'>\n",
      "RangeIndex: 100000 entries, 0 to 99999\n",
      "Data columns (total 5 columns):\n",
      " #   Column   Non-Null Count   Dtype  \n",
      "---  ------   --------------   -----  \n",
      " 0   id       100000 non-null  object \n",
      " 1   f0       100000 non-null  float64\n",
      " 2   f1       100000 non-null  float64\n",
      " 3   f2       100000 non-null  float64\n",
      " 4   product  100000 non-null  float64\n",
      "dtypes: float64(4), object(1)\n",
      "memory usage: 3.8+ MB\n",
      "Dataset 3: None\n"
     ]
    }
   ],
   "source": [
    "print('Dataset 1:', data_1.info())\n",
    "print('\\n')\n",
    "print('Dataset 2:', data_2.info())\n",
    "print('\\n')\n",
    "print('Dataset 3:', data_3.info())"
   ]
  },
  {
   "cell_type": "markdown",
   "metadata": {},
   "source": [
    "Visualizamos los sets."
   ]
  },
  {
   "cell_type": "code",
   "execution_count": 6,
   "metadata": {},
   "outputs": [
    {
     "data": {
      "text/html": [
       "<div>\n",
       "<style scoped>\n",
       "    .dataframe tbody tr th:only-of-type {\n",
       "        vertical-align: middle;\n",
       "    }\n",
       "\n",
       "    .dataframe tbody tr th {\n",
       "        vertical-align: top;\n",
       "    }\n",
       "\n",
       "    .dataframe thead th {\n",
       "        text-align: right;\n",
       "    }\n",
       "</style>\n",
       "<table border=\"1\" class=\"dataframe\">\n",
       "  <thead>\n",
       "    <tr style=\"text-align: right;\">\n",
       "      <th></th>\n",
       "      <th>id</th>\n",
       "      <th>f0</th>\n",
       "      <th>f1</th>\n",
       "      <th>f2</th>\n",
       "      <th>product</th>\n",
       "    </tr>\n",
       "  </thead>\n",
       "  <tbody>\n",
       "    <tr>\n",
       "      <th>0</th>\n",
       "      <td>txEyH</td>\n",
       "      <td>0.705745</td>\n",
       "      <td>-0.497823</td>\n",
       "      <td>1.221170</td>\n",
       "      <td>105.280062</td>\n",
       "    </tr>\n",
       "    <tr>\n",
       "      <th>1</th>\n",
       "      <td>2acmU</td>\n",
       "      <td>1.334711</td>\n",
       "      <td>-0.340164</td>\n",
       "      <td>4.365080</td>\n",
       "      <td>73.037750</td>\n",
       "    </tr>\n",
       "    <tr>\n",
       "      <th>2</th>\n",
       "      <td>409Wp</td>\n",
       "      <td>1.022732</td>\n",
       "      <td>0.151990</td>\n",
       "      <td>1.419926</td>\n",
       "      <td>85.265647</td>\n",
       "    </tr>\n",
       "    <tr>\n",
       "      <th>3</th>\n",
       "      <td>iJLyR</td>\n",
       "      <td>-0.032172</td>\n",
       "      <td>0.139033</td>\n",
       "      <td>2.978566</td>\n",
       "      <td>168.620776</td>\n",
       "    </tr>\n",
       "    <tr>\n",
       "      <th>4</th>\n",
       "      <td>Xdl7t</td>\n",
       "      <td>1.988431</td>\n",
       "      <td>0.155413</td>\n",
       "      <td>4.751769</td>\n",
       "      <td>154.036647</td>\n",
       "    </tr>\n",
       "  </tbody>\n",
       "</table>\n",
       "</div>"
      ],
      "text/plain": [
       "      id        f0        f1        f2     product\n",
       "0  txEyH  0.705745 -0.497823  1.221170  105.280062\n",
       "1  2acmU  1.334711 -0.340164  4.365080   73.037750\n",
       "2  409Wp  1.022732  0.151990  1.419926   85.265647\n",
       "3  iJLyR -0.032172  0.139033  2.978566  168.620776\n",
       "4  Xdl7t  1.988431  0.155413  4.751769  154.036647"
      ]
     },
     "execution_count": 6,
     "metadata": {},
     "output_type": "execute_result"
    }
   ],
   "source": [
    "data_1.head()"
   ]
  },
  {
   "cell_type": "code",
   "execution_count": 7,
   "metadata": {},
   "outputs": [
    {
     "data": {
      "text/html": [
       "<div>\n",
       "<style scoped>\n",
       "    .dataframe tbody tr th:only-of-type {\n",
       "        vertical-align: middle;\n",
       "    }\n",
       "\n",
       "    .dataframe tbody tr th {\n",
       "        vertical-align: top;\n",
       "    }\n",
       "\n",
       "    .dataframe thead th {\n",
       "        text-align: right;\n",
       "    }\n",
       "</style>\n",
       "<table border=\"1\" class=\"dataframe\">\n",
       "  <thead>\n",
       "    <tr style=\"text-align: right;\">\n",
       "      <th></th>\n",
       "      <th>id</th>\n",
       "      <th>f0</th>\n",
       "      <th>f1</th>\n",
       "      <th>f2</th>\n",
       "      <th>product</th>\n",
       "    </tr>\n",
       "  </thead>\n",
       "  <tbody>\n",
       "    <tr>\n",
       "      <th>0</th>\n",
       "      <td>kBEdx</td>\n",
       "      <td>-15.001348</td>\n",
       "      <td>-8.276000</td>\n",
       "      <td>-0.005876</td>\n",
       "      <td>3.179103</td>\n",
       "    </tr>\n",
       "    <tr>\n",
       "      <th>1</th>\n",
       "      <td>62mP7</td>\n",
       "      <td>14.272088</td>\n",
       "      <td>-3.475083</td>\n",
       "      <td>0.999183</td>\n",
       "      <td>26.953261</td>\n",
       "    </tr>\n",
       "    <tr>\n",
       "      <th>2</th>\n",
       "      <td>vyE1P</td>\n",
       "      <td>6.263187</td>\n",
       "      <td>-5.948386</td>\n",
       "      <td>5.001160</td>\n",
       "      <td>134.766305</td>\n",
       "    </tr>\n",
       "    <tr>\n",
       "      <th>3</th>\n",
       "      <td>KcrkZ</td>\n",
       "      <td>-13.081196</td>\n",
       "      <td>-11.506057</td>\n",
       "      <td>4.999415</td>\n",
       "      <td>137.945408</td>\n",
       "    </tr>\n",
       "    <tr>\n",
       "      <th>4</th>\n",
       "      <td>AHL4O</td>\n",
       "      <td>12.702195</td>\n",
       "      <td>-8.147433</td>\n",
       "      <td>5.004363</td>\n",
       "      <td>134.766305</td>\n",
       "    </tr>\n",
       "  </tbody>\n",
       "</table>\n",
       "</div>"
      ],
      "text/plain": [
       "      id         f0         f1        f2     product\n",
       "0  kBEdx -15.001348  -8.276000 -0.005876    3.179103\n",
       "1  62mP7  14.272088  -3.475083  0.999183   26.953261\n",
       "2  vyE1P   6.263187  -5.948386  5.001160  134.766305\n",
       "3  KcrkZ -13.081196 -11.506057  4.999415  137.945408\n",
       "4  AHL4O  12.702195  -8.147433  5.004363  134.766305"
      ]
     },
     "execution_count": 7,
     "metadata": {},
     "output_type": "execute_result"
    }
   ],
   "source": [
    "data_2.head()"
   ]
  },
  {
   "cell_type": "code",
   "execution_count": 8,
   "metadata": {},
   "outputs": [
    {
     "data": {
      "text/html": [
       "<div>\n",
       "<style scoped>\n",
       "    .dataframe tbody tr th:only-of-type {\n",
       "        vertical-align: middle;\n",
       "    }\n",
       "\n",
       "    .dataframe tbody tr th {\n",
       "        vertical-align: top;\n",
       "    }\n",
       "\n",
       "    .dataframe thead th {\n",
       "        text-align: right;\n",
       "    }\n",
       "</style>\n",
       "<table border=\"1\" class=\"dataframe\">\n",
       "  <thead>\n",
       "    <tr style=\"text-align: right;\">\n",
       "      <th></th>\n",
       "      <th>id</th>\n",
       "      <th>f0</th>\n",
       "      <th>f1</th>\n",
       "      <th>f2</th>\n",
       "      <th>product</th>\n",
       "    </tr>\n",
       "  </thead>\n",
       "  <tbody>\n",
       "    <tr>\n",
       "      <th>0</th>\n",
       "      <td>fwXo0</td>\n",
       "      <td>-1.146987</td>\n",
       "      <td>0.963328</td>\n",
       "      <td>-0.828965</td>\n",
       "      <td>27.758673</td>\n",
       "    </tr>\n",
       "    <tr>\n",
       "      <th>1</th>\n",
       "      <td>WJtFt</td>\n",
       "      <td>0.262778</td>\n",
       "      <td>0.269839</td>\n",
       "      <td>-2.530187</td>\n",
       "      <td>56.069697</td>\n",
       "    </tr>\n",
       "    <tr>\n",
       "      <th>2</th>\n",
       "      <td>ovLUW</td>\n",
       "      <td>0.194587</td>\n",
       "      <td>0.289035</td>\n",
       "      <td>-5.586433</td>\n",
       "      <td>62.871910</td>\n",
       "    </tr>\n",
       "    <tr>\n",
       "      <th>3</th>\n",
       "      <td>q6cA6</td>\n",
       "      <td>2.236060</td>\n",
       "      <td>-0.553760</td>\n",
       "      <td>0.930038</td>\n",
       "      <td>114.572842</td>\n",
       "    </tr>\n",
       "    <tr>\n",
       "      <th>4</th>\n",
       "      <td>WPMUX</td>\n",
       "      <td>-0.515993</td>\n",
       "      <td>1.716266</td>\n",
       "      <td>5.899011</td>\n",
       "      <td>149.600746</td>\n",
       "    </tr>\n",
       "  </tbody>\n",
       "</table>\n",
       "</div>"
      ],
      "text/plain": [
       "      id        f0        f1        f2     product\n",
       "0  fwXo0 -1.146987  0.963328 -0.828965   27.758673\n",
       "1  WJtFt  0.262778  0.269839 -2.530187   56.069697\n",
       "2  ovLUW  0.194587  0.289035 -5.586433   62.871910\n",
       "3  q6cA6  2.236060 -0.553760  0.930038  114.572842\n",
       "4  WPMUX -0.515993  1.716266  5.899011  149.600746"
      ]
     },
     "execution_count": 8,
     "metadata": {},
     "output_type": "execute_result"
    }
   ],
   "source": [
    "data_3.head()"
   ]
  },
  {
   "cell_type": "markdown",
   "metadata": {},
   "source": [
    "**Descripción de los Datos**\n",
    "\n",
    "- `id` — identificador único de pozo de petróleo\n",
    "- `f0, f1, f2` — tres características de los puntos (su significado específico no es importante, pero las características en sí son significativas)\n",
    "- `product` — volumen de reservas en el pozo de petróleo (miles de barriles)."
   ]
  },
  {
   "cell_type": "markdown",
   "metadata": {},
   "source": [
    "**Observaciones**\n",
    "\n",
    "> Todo parece estar en orden. No hay evidencias de valores ausentes o tipo de dato incorrecto."
   ]
  },
  {
   "cell_type": "markdown",
   "metadata": {},
   "source": [
    "## || Etapa Dos - Entrenar y Probar Modelo para Cada Región.\n",
    "\n",
    "---\n",
    "\n",
    "Descripción del flujo de trabajo para esta sección:\n",
    "\n",
    "- Dividir los datos en un conjunto de entrenamiento y un conjunto de validación en una proporción de 75:25.\n",
    "- Entrenar el modelo y hacer predicciones para el conjunto de validación.\n",
    "- Guardar las predicciones y las respuestas correctas para el conjunto de validación.\n",
    "- Mostrar el volumen promedio de las reservas previstas y la RECM del modelo.\n",
    "- Analizar los resultados."
   ]
  },
  {
   "cell_type": "markdown",
   "metadata": {},
   "source": [
    "### Desarrollo de Función.\n",
    "\n",
    "Debido a que el proceso es iteratibo vamos a desarrollar una función que nos ayude a entrenar nuestro modelo para las 3 regiones."
   ]
  },
  {
   "cell_type": "code",
   "execution_count": 9,
   "metadata": {},
   "outputs": [],
   "source": [
    "## Declaramos el valor aleatorio.\n",
    "random = np.random.RandomState(12345)\n",
    "\n",
    "## Creamos la función.\n",
    "def train(data, random_state=random):\n",
    "    \n",
    "    ## Definimos target y features.\n",
    "    features = data.drop(['product', 'id'], axis=1)\n",
    "    target = data['product']\n",
    "    \n",
    "    ## Hacemos split de datos.\n",
    "    X_train, X_val, y_train, y_val = train_test_split(\n",
    "        features, target, random_state=random, test_size=0.25\n",
    "    )\n",
    "    ## Entrenamos el modelo.\n",
    "    linre = LinearRegression()\n",
    "    linre.fit(X_train, y_train)\n",
    "    \n",
    "    ## Obtenemos Predicciones.\n",
    "    y_pred = linre.predict(X_val)\n",
    "    \n",
    "    ## Calculamos la raíz del error cuadrático medio.\n",
    "    rmse = mean_squared_error(y_val, y_pred, squared= False)\n",
    "    \n",
    "    print(f\"El volumen promedio de las reservas es: {target.mean()}\") ## Mostramos el volumen promedio.\n",
    "    print(f\"El RMSE del modelo es: {rmse}\")                           ## Mostramos el RMSE.\n",
    "    print(\"--------------------------------------\")\n",
    "    \n",
    "    ## Guardamos las respuestas y las predicciones.\n",
    "    table = pd.DataFrame(dict(target = y_val, predictions = y_pred))\n",
    "    \n",
    "    return table"
   ]
  },
  {
   "cell_type": "markdown",
   "metadata": {},
   "source": [
    "Comprobamos que funcione nuestro código."
   ]
  },
  {
   "cell_type": "code",
   "execution_count": 10,
   "metadata": {},
   "outputs": [
    {
     "name": "stdout",
     "output_type": "stream",
     "text": [
      "El volumen promedio de las reservas es: 92.50000000000001\n",
      "El RMSE del modelo es: 37.5794217150813\n",
      "--------------------------------------\n"
     ]
    },
    {
     "data": {
      "text/html": [
       "<div>\n",
       "<style scoped>\n",
       "    .dataframe tbody tr th:only-of-type {\n",
       "        vertical-align: middle;\n",
       "    }\n",
       "\n",
       "    .dataframe tbody tr th {\n",
       "        vertical-align: top;\n",
       "    }\n",
       "\n",
       "    .dataframe thead th {\n",
       "        text-align: right;\n",
       "    }\n",
       "</style>\n",
       "<table border=\"1\" class=\"dataframe\">\n",
       "  <thead>\n",
       "    <tr style=\"text-align: right;\">\n",
       "      <th></th>\n",
       "      <th>target</th>\n",
       "      <th>predictions</th>\n",
       "    </tr>\n",
       "  </thead>\n",
       "  <tbody>\n",
       "    <tr>\n",
       "      <th>71751</th>\n",
       "      <td>10.038645</td>\n",
       "      <td>95.894952</td>\n",
       "    </tr>\n",
       "    <tr>\n",
       "      <th>80493</th>\n",
       "      <td>114.551489</td>\n",
       "      <td>77.572583</td>\n",
       "    </tr>\n",
       "    <tr>\n",
       "      <th>2655</th>\n",
       "      <td>132.603635</td>\n",
       "      <td>77.892640</td>\n",
       "    </tr>\n",
       "    <tr>\n",
       "      <th>53233</th>\n",
       "      <td>169.072125</td>\n",
       "      <td>90.175134</td>\n",
       "    </tr>\n",
       "    <tr>\n",
       "      <th>91141</th>\n",
       "      <td>122.325180</td>\n",
       "      <td>70.510088</td>\n",
       "    </tr>\n",
       "    <tr>\n",
       "      <th>...</th>\n",
       "      <td>...</td>\n",
       "      <td>...</td>\n",
       "    </tr>\n",
       "    <tr>\n",
       "      <th>12581</th>\n",
       "      <td>170.116726</td>\n",
       "      <td>103.037104</td>\n",
       "    </tr>\n",
       "    <tr>\n",
       "      <th>18456</th>\n",
       "      <td>93.632175</td>\n",
       "      <td>85.403255</td>\n",
       "    </tr>\n",
       "    <tr>\n",
       "      <th>73035</th>\n",
       "      <td>127.352259</td>\n",
       "      <td>61.509833</td>\n",
       "    </tr>\n",
       "    <tr>\n",
       "      <th>63834</th>\n",
       "      <td>99.782700</td>\n",
       "      <td>118.180397</td>\n",
       "    </tr>\n",
       "    <tr>\n",
       "      <th>43558</th>\n",
       "      <td>177.821022</td>\n",
       "      <td>118.169392</td>\n",
       "    </tr>\n",
       "  </tbody>\n",
       "</table>\n",
       "<p>25000 rows × 2 columns</p>\n",
       "</div>"
      ],
      "text/plain": [
       "           target  predictions\n",
       "71751   10.038645    95.894952\n",
       "80493  114.551489    77.572583\n",
       "2655   132.603635    77.892640\n",
       "53233  169.072125    90.175134\n",
       "91141  122.325180    70.510088\n",
       "...           ...          ...\n",
       "12581  170.116726   103.037104\n",
       "18456   93.632175    85.403255\n",
       "73035  127.352259    61.509833\n",
       "63834   99.782700   118.180397\n",
       "43558  177.821022   118.169392\n",
       "\n",
       "[25000 rows x 2 columns]"
      ]
     },
     "execution_count": 10,
     "metadata": {},
     "output_type": "execute_result"
    }
   ],
   "source": [
    "train(data_1)"
   ]
  },
  {
   "cell_type": "markdown",
   "metadata": {},
   "source": [
    "Ahora que podemos ver que funciona, vamos entonces a crear un ciclo 'for' para acceder más rápido a la información."
   ]
  },
  {
   "cell_type": "code",
   "execution_count": 11,
   "metadata": {},
   "outputs": [
    {
     "name": "stdout",
     "output_type": "stream",
     "text": [
      "El volumen promedio de las reservas es: 92.50000000000001\n",
      "El RMSE del modelo es: 37.91718878682678\n",
      "--------------------------------------\n",
      "El volumen promedio de las reservas es: 68.82500000000002\n",
      "El RMSE del modelo es: 0.8936594805070976\n",
      "--------------------------------------\n",
      "El volumen promedio de las reservas es: 95.00000000000004\n",
      "El RMSE del modelo es: 40.206897848340155\n",
      "--------------------------------------\n"
     ]
    }
   ],
   "source": [
    "#Lista con el nombre de las regiones\n",
    "reg = [\"Región 1\", \"Región 2\", \"Región 3\"]\n",
    "#Lista con los dataframes.\n",
    "reg_val = [data_1, data_2, data_3]\n",
    "#Un diccionario vacío para guardar nuestras predicciones y target.\n",
    "predictions_dict = {}\n",
    "\n",
    "#Ciclo que itera sobre las listas.\n",
    "for region, data in zip(reg, reg_val):\n",
    "    predictions_dict[region] = train(data)"
   ]
  },
  {
   "cell_type": "markdown",
   "metadata": {},
   "source": [
    "De esta manera solo tenemos que consultar nuestro diccionario para acceder a las predicciones."
   ]
  },
  {
   "cell_type": "code",
   "execution_count": 12,
   "metadata": {},
   "outputs": [
    {
     "data": {
      "text/html": [
       "<div>\n",
       "<style scoped>\n",
       "    .dataframe tbody tr th:only-of-type {\n",
       "        vertical-align: middle;\n",
       "    }\n",
       "\n",
       "    .dataframe tbody tr th {\n",
       "        vertical-align: top;\n",
       "    }\n",
       "\n",
       "    .dataframe thead th {\n",
       "        text-align: right;\n",
       "    }\n",
       "</style>\n",
       "<table border=\"1\" class=\"dataframe\">\n",
       "  <thead>\n",
       "    <tr style=\"text-align: right;\">\n",
       "      <th></th>\n",
       "      <th>target</th>\n",
       "      <th>predictions</th>\n",
       "    </tr>\n",
       "  </thead>\n",
       "  <tbody>\n",
       "    <tr>\n",
       "      <th>70156</th>\n",
       "      <td>58.498891</td>\n",
       "      <td>69.767622</td>\n",
       "    </tr>\n",
       "    <tr>\n",
       "      <th>42796</th>\n",
       "      <td>36.790923</td>\n",
       "      <td>75.592468</td>\n",
       "    </tr>\n",
       "    <tr>\n",
       "      <th>36723</th>\n",
       "      <td>115.607489</td>\n",
       "      <td>108.927138</td>\n",
       "    </tr>\n",
       "    <tr>\n",
       "      <th>79446</th>\n",
       "      <td>87.088342</td>\n",
       "      <td>104.120214</td>\n",
       "    </tr>\n",
       "    <tr>\n",
       "      <th>93328</th>\n",
       "      <td>33.397142</td>\n",
       "      <td>100.753785</td>\n",
       "    </tr>\n",
       "    <tr>\n",
       "      <th>...</th>\n",
       "      <td>...</td>\n",
       "      <td>...</td>\n",
       "    </tr>\n",
       "    <tr>\n",
       "      <th>5864</th>\n",
       "      <td>89.259300</td>\n",
       "      <td>95.399343</td>\n",
       "    </tr>\n",
       "    <tr>\n",
       "      <th>69826</th>\n",
       "      <td>159.832931</td>\n",
       "      <td>103.992010</td>\n",
       "    </tr>\n",
       "    <tr>\n",
       "      <th>47036</th>\n",
       "      <td>26.575868</td>\n",
       "      <td>110.343875</td>\n",
       "    </tr>\n",
       "    <tr>\n",
       "      <th>93329</th>\n",
       "      <td>82.699775</td>\n",
       "      <td>81.257841</td>\n",
       "    </tr>\n",
       "    <tr>\n",
       "      <th>93430</th>\n",
       "      <td>152.171472</td>\n",
       "      <td>143.320029</td>\n",
       "    </tr>\n",
       "  </tbody>\n",
       "</table>\n",
       "<p>25000 rows × 2 columns</p>\n",
       "</div>"
      ],
      "text/plain": [
       "           target  predictions\n",
       "70156   58.498891    69.767622\n",
       "42796   36.790923    75.592468\n",
       "36723  115.607489   108.927138\n",
       "79446   87.088342   104.120214\n",
       "93328   33.397142   100.753785\n",
       "...           ...          ...\n",
       "5864    89.259300    95.399343\n",
       "69826  159.832931   103.992010\n",
       "47036   26.575868   110.343875\n",
       "93329   82.699775    81.257841\n",
       "93430  152.171472   143.320029\n",
       "\n",
       "[25000 rows x 2 columns]"
      ]
     },
     "execution_count": 12,
     "metadata": {},
     "output_type": "execute_result"
    }
   ],
   "source": [
    "## Colocamos el nombre de la región a consultar.\n",
    "predictions_dict[\"Región 1\"]"
   ]
  },
  {
   "cell_type": "markdown",
   "metadata": {},
   "source": [
    "**OBSERVACIONES**\n",
    "\n",
    "- Las evidencias nos muestran que el mejor promedio para las reservas es de la Región 3 con 95 pts pero el RMSE de su modelo es de 40.\n",
    "- El mejor rmse es de la Región 2 con 0.89 pero su promedio es demasiado bajo con apenas 69 pts."
   ]
  },
  {
   "cell_type": "markdown",
   "metadata": {},
   "source": [
    "## || Etapa Tres: Cálculo de Ganancias\n",
    "\n",
    "---\n",
    "\n",
    "Teniendo en cuenta lo anterior vamos a calcular el volumen de reservas y algunos datos adicionales."
   ]
  },
  {
   "cell_type": "code",
   "execution_count": 13,
   "metadata": {},
   "outputs": [
    {
     "name": "stdout",
     "output_type": "stream",
     "text": [
      "El costo de cada pozo es: 500000.0 dls\n",
      "La unidad de barril contiene: 1000.0 barriles\n",
      "El volúmen de reservas sin pérdidas es: 111.11111111111111 litros\n"
     ]
    }
   ],
   "source": [
    "## < Almacenamos los valores clave >\n",
    "\n",
    "FONDOS   = 100_000_000 ## Presupuesto.\n",
    "BARRIL   = 4.5         ## Ingreso x Barril en Dólares.\n",
    "PRODUCT  = 4_500       ## Ingreso x Unidad de Barril en Dólares/Litro.\n",
    "n_pozos  = 200         ## Cantidad de Pozos.\n",
    "\n",
    "## Realizamos Operaciones\n",
    "\n",
    "pozo   = FONDOS / n_pozos    ## < Calcular costo x pozo >\n",
    "unit   = PRODUCT / BARRIL    ## < Unidades de barril >\n",
    "res    = pozo / PRODUCT      ## < Volúmen de Reservas >\n",
    "\n",
    "print(f'El costo de cada pozo es: {pozo} dls')\n",
    "print(f'La unidad de barril contiene: {unit} barriles')\n",
    "print(f'El volúmen de reservas sin pérdidas es: {res} litros')"
   ]
  },
  {
   "cell_type": "markdown",
   "metadata": {},
   "source": [
    "**Hallazgos**\n",
    "> El volúmen de reservas para no tener perdidas debe ser de 111.11, esta cantidad supera el promedio de cada región obtenido. Recordemos que el promedio se puede ver afectado tanto por los valores positivos como los valores negativos, por lo tanto debemos escoger un criterio para seleccionar la región más adecuada."
   ]
  },
  {
   "cell_type": "markdown",
   "metadata": {},
   "source": [
    "## || Etapa Cuatro: Bootstrap\n",
    "---\n",
    "\n",
    "En esta parte del proceso vamos a realizar un remuestreo con la finalidad de obtener el cálculo de la ganancia. Para ello vamos a desarrollar otra función."
   ]
  },
  {
   "cell_type": "code",
   "execution_count": 14,
   "metadata": {},
   "outputs": [],
   "source": [
    "# < Calculamos Beneficios >\n",
    "\n",
    "def benef(data, precio = PRODUCT, inversion = FONDOS):\n",
    "    ## Ordenamos los 200 pozos más importantes para nuestro modelo y los sumamos.\n",
    "    points = data.sort_values(by='predictions', ascending=False)['target'].head(200).sum()\n",
    "    \n",
    "    ## Aplicamos operación para obtener beneficio.\n",
    "    beneficio = (points*precio) - inversion\n",
    "    \n",
    "    return beneficio"
   ]
  },
  {
   "cell_type": "markdown",
   "metadata": {},
   "source": [
    "¿Cuál es el beneficio de cada una de las 3 regiones?"
   ]
  },
  {
   "cell_type": "code",
   "execution_count": 15,
   "metadata": {},
   "outputs": [
    {
     "name": "stdout",
     "output_type": "stream",
     "text": [
      "El beneficio para la región 1 es: 32666888.164499626\n",
      "El beneficio para la región 2 es: 24150866.966815114\n",
      "El beneficio para la región 3 es: 23303618.04299873\n"
     ]
    }
   ],
   "source": [
    "reg_1 = benef(predictions_dict['Región 1'])\n",
    "reg_2 = benef(predictions_dict['Región 2'])\n",
    "reg_3 = benef(predictions_dict['Región 3'])\n",
    "\n",
    "print(f'El beneficio para la región 1 es: {reg_1}')\n",
    "print(f'El beneficio para la región 2 es: {reg_2}')\n",
    "print(f'El beneficio para la región 3 es: {reg_3}')"
   ]
  },
  {
   "cell_type": "markdown",
   "metadata": {},
   "source": [
    "> Tomando en cuenta las mejores 200 predicciones ahora sabemos que la región 1 es tentativamente la más adecuada."
   ]
  },
  {
   "cell_type": "code",
   "execution_count": 16,
   "metadata": {},
   "outputs": [],
   "source": [
    "## < Bootstrap >\n",
    "\n",
    "def boostrap(data, n_boost = 1000):\n",
    "    ## Creamos lista vacía para guardar los resultados.\n",
    "    beneficio_dist = []\n",
    "    for _ in range(n_boost):\n",
    "        ## Iteramos sobre el presupuesto para 500 pozos seleccionados.\n",
    "        puntos_seleccionados = data.sample(n=500, replace=True, random_state=random)\n",
    "        ## Agregamos los resultados.\n",
    "        beneficio_dist.append(benef(puntos_seleccionados))\n",
    "\n",
    "    beneficio_dist = pd.Series(beneficio_dist) ## Convertimos a series de pandas.\n",
    "    return beneficio_dist"
   ]
  },
  {
   "cell_type": "markdown",
   "metadata": {},
   "source": [
    "Comprobamos"
   ]
  },
  {
   "cell_type": "code",
   "execution_count": 17,
   "metadata": {},
   "outputs": [
    {
     "data": {
      "text/plain": [
       "0      1.347135e+06\n",
       "1     -3.440763e+05\n",
       "2      5.030390e+06\n",
       "3      1.956741e+06\n",
       "4      4.311790e+06\n",
       "           ...     \n",
       "995    1.158872e+06\n",
       "996    4.801688e+06\n",
       "997    8.700722e+06\n",
       "998    2.540938e+06\n",
       "999    2.296772e+06\n",
       "Length: 1000, dtype: float64"
      ]
     },
     "execution_count": 17,
     "metadata": {},
     "output_type": "execute_result"
    }
   ],
   "source": [
    "boostrap(predictions_dict['Región 1'])"
   ]
  },
  {
   "cell_type": "markdown",
   "metadata": {},
   "source": [
    "## || Etapa Cinco: Reporte.\n",
    "\n",
    "---\n",
    "\n",
    "Finalmente vamos a crear un reporte para encontrar el beneficio promedio y el intervalo de confianza que nos permitan seleccionar la región más adecuada para la inversión destinada por OilyGiant."
   ]
  },
  {
   "cell_type": "code",
   "execution_count": 18,
   "metadata": {},
   "outputs": [
    {
     "name": "stdout",
     "output_type": "stream",
     "text": [
      "Beneficio promedio para la Región 1 es: 3198589.938730471\n",
      "El intervalo de confianza para Región 1 es: (-1866964.5393971493, 8238302.323207182)\n",
      "Beneficio promedio para la Región 1 es: 10.9%\n",
      "-----------------------------------------------------------\n",
      "Beneficio promedio para la Región 2 es: 4908252.620893162\n",
      "El intervalo de confianza para Región 2 es: (1151421.2625473996, 9028859.08141665)\n",
      "Beneficio promedio para la Región 2 es: 0.7000000000000001%\n",
      "-----------------------------------------------------------\n",
      "Beneficio promedio para la Región 3 es: 3652850.205933399\n",
      "El intervalo de confianza para Región 3 es: (-1553587.4713538336, 8900517.515412148)\n",
      "Beneficio promedio para la Región 3 es: 8.799999999999999%\n",
      "-----------------------------------------------------------\n"
     ]
    }
   ],
   "source": [
    "## <Creamos Reporte>\n",
    "\n",
    "def reporte(beneficio, region, conf= 0.95):\n",
    "    ## Definimos punto de significancia.\n",
    "    alpha = 1 - conf\n",
    "    \n",
    "    ## Definimos el intervalo de confianza.\n",
    "    lower = beneficio.quantile(alpha/2)\n",
    "    upper = beneficio.quantile(1 - alpha/2)\n",
    "    \n",
    "    ## Obtenemos promedio.\n",
    "    mean = beneficio.mean()\n",
    "    \n",
    "    ## Si sumo los casos menores a cero es el conteo de veces que hay perdida\n",
    "    ## Si lo divido por el No de casos me queda la probabilidad de pérdida...\n",
    "    loss = (beneficio < 0).mean()\n",
    "\n",
    "    print(f\"Beneficio promedio para la {region} es: {mean}\")\n",
    "    print(f\"El intervalo de confianza para {region} es: {(lower, upper)}\")\n",
    "    print(f\"Beneficio promedio para la {region} es: {loss*100}%\")\n",
    "    print('-----------------------------------------------------------')\n",
    "\n",
    "## Creamos un diccionaro nuevo.\n",
    "beneficio_dict = {}\n",
    "    \n",
    "## Iteramos sobre cada región para obtener el reporte de c/u\n",
    "for region, data in predictions_dict.items():\n",
    "    beneficio=boostrap(data)\n",
    "    reporte(beneficio, region = region)\n",
    "    beneficio_dict[region] = beneficio"
   ]
  },
  {
   "cell_type": "markdown",
   "metadata": {},
   "source": [
    "Graficamos el reporte."
   ]
  },
  {
   "cell_type": "code",
   "execution_count": 19,
   "metadata": {},
   "outputs": [
    {
     "data": {
      "image/png": "[encoded data removed]",
      "text/plain": [
       "<Figure size 432x288 with 1 Axes>"
      ]
     },
     "metadata": {
      "needs_background": "light"
     },
     "output_type": "display_data"
    }
   ],
   "source": [
    "for region, data in beneficio_dict.items():\n",
    "    plt.hist(data, label=region, alpha=0.2)\n",
    "plt.title('Reporte de Beneficios')\n",
    "plt.legend();"
   ]
  },
  {
   "cell_type": "markdown",
   "metadata": {},
   "source": [
    "## || Conclusiones\n",
    "\n",
    "---\n",
    "\n",
    "Después de realizar nuestro análisis podemos ver gracias a las evidencias que el nuevo pozo debe colocarse en la región número 2 debido a que la evaluación de riesgo es menor al 2.5% como lo indica OilyGiant, además fue la región donde el modelo de regresión obtuvo una mejor valoración.\n",
    "\n",
    "Para este proceso se entrenó un modelo de regresión lineal que posteriormente se evaluó con la técnica RMSE para calcular sus resultados. Calculamos las ganancias y el volumen de reservas suficiente para desarrollar un nuevo pozo sin pérdidas y comparamos el valor obtenido con el volumen medio de reservas de cada región.\n",
    "\n",
    "Después calculamos la ganancia de un conjunto de pozos de petróleo seleccionados y modelamos las predicciones donde posteriormente escogimos los pozos con los valores más altos de predicciones. Seleccionamos el volumen objetivo de reservas de acuerdo con estas predicciones y sugerimos una región para el desarrollo de pozos petroleros.\n",
    "\n",
    "Adicional a ello calculamos los riesgos y ganancias para cada región usando la técnica bootstrapping con 1000 muestras para encontrar la distribución del beneficio. Encontramos el beneficio promedio, el intervalo de confianza del 95% y el riesgo de pérdidas.\n",
    "\n",
    "Deeste modo es como sugerimos una región para el desarrollo de pozos petroleros.\n",
    "Esperamos que esta información sea de utilidad y de mucho provecho para la empresa OilyGigant."
   ]
  }
 ],
 "metadata": {
  "kernelspec": {
   "display_name": "Python 3 (ipykernel)",
   "language": "python",
   "name": "python3"
  },
  "language_info": {
   "codemirror_mode": {
    "name": "ipython",
    "version": 3
   },
   "file_extension": ".py",
   "mimetype": "text/x-python",
   "name": "python",
   "nbconvert_exporter": "python",
   "pygments_lexer": "ipython3",
   "version": "3.9.5"
  },
  "toc": {
   "base_numbering": 1,
   "nav_menu": {},
   "number_sections": true,
   "sideBar": true,
   "skip_h1_title": true,
   "title_cell": "Table of Contents",
   "title_sidebar": "Contents",
   "toc_cell": false,
   "toc_position": {},
   "toc_section_display": true,
   "toc_window_display": false
  }
 },
 "nbformat": 4,
 "nbformat_minor": 2
}
