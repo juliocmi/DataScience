{
  "cells": [
    {
      "cell_type": "markdown",
      "metadata": {
        "id": "zOWyXiu06vQE"
      },
      "source": [
        "# Proyecto: Machine Learning\n",
        "---\n",
        "*Fecha de Realización: Mar-2023*\n",
        "\n",
        "- **Senior Data Scientist:** Francisco Alfaro\n",
        "- **Instructor:** Alfonso Tobar\n",
        "- **Code Reviewer:** Iván Hernández\n",
        "- **Notebook by:** Julio C. Martínez\n",
        "\n",
        "# Descripción del proyecto\n",
        "\n",
        "La compañía móvil Megaline no está satisfecha al ver que muchos de sus clientes utilizan planes heredados. Quieren desarrollar un modelo que pueda analizar el comportamiento de los clientes y recomendar uno de los nuevos planes de Megaline: Smart o Ultra.\n",
        "Tienes acceso a los datos de comportamiento de los suscriptores que ya se han cambiado a los planes nuevos (del proyecto del curso de Análisis estadístico de datos). Para esta tarea de clasificación debes crear un modelo que escoja el plan correcto. Como ya hiciste el paso de procesar los datos, puedes lanzarte directo a crear el modelo.\n",
        "Desarrolla un modelo con la mayor exactitud posible. En este proyecto, el umbral de exactitud es 0.75. Usa el dataset para comprobar la exactitud.\n",
        "\n",
        "# Instrucciones del proyecto.\n",
        "---\n",
        "\n",
        "Para este proyecto estaremos trabajando con los siguientes puntos:\n",
        "\n",
        "1. Abrir y examinar el archivo de datos.\n",
        "2. Segmentar los datos fuente en un conjunto de entrenamiento, uno de validación y uno de prueba.\n",
        "3. Investigar la calidad de diferentes modelos cambiando los hiperparámetros. Describir brevemente los hallazgos del estudio.\n",
        "4. Comprobar la calidad del modelo usando el conjunto de prueba.\n",
        "5. Tarea adicional: hacer una prueba de cordura al modelo. Estos datos son más complejos que los que habíamos usado antes así que no será una tarea fácil."
      ]
    },
    {
      "cell_type": "markdown",
      "metadata": {
        "id": "x70sOZWi6vQE"
      },
      "source": [
        "## Carga de Datos y Estudio General de la Información.\n",
        "---"
      ]
    },
    {
      "cell_type": "markdown",
      "metadata": {
        "id": "5tEsP_9t6vQF"
      },
      "source": [
        "Cargar liberías."
      ]
    },
    {
      "cell_type": "code",
      "execution_count": null,
      "metadata": {
        "id": "F0C87YR36vQF"
      },
      "outputs": [],
      "source": [
        "import pandas as pd\n",
        "from sklearn.model_selection import train_test_split\n",
        "from sklearn.linear_model import LogisticRegression\n",
        "from sklearn.ensemble import RandomForestClassifier\n",
        "from sklearn.tree import DecisionTreeClassifier\n",
        "from sklearn.dummy import DummyClassifier\n",
        "from sklearn.metrics import accuracy_score, mean_squared_error\n",
        "import matplotlib.pyplot as plt"
      ]
    },
    {
      "cell_type": "markdown",
      "metadata": {
        "id": "9sxmRY3r6vQG"
      },
      "source": [
        "Cargar archivos."
      ]
    },
    {
      "cell_type": "code",
      "execution_count": null,
      "metadata": {
        "id": "ixIK6gko6vQG"
      },
      "outputs": [],
      "source": [
        "clientes = pd.read_csv('/datasets/users_behavior.csv')"
      ]
    },
    {
      "cell_type": "markdown",
      "metadata": {
        "id": "61k-k-Ng6vQG"
      },
      "source": [
        "Cantidad de características y objetivo."
      ]
    },
    {
      "cell_type": "code",
      "execution_count": null,
      "metadata": {
        "id": "7gALEnuX6vQG",
        "outputId": "38fac315-6275-4373-f958-87ecb1d6d9ec"
      },
      "outputs": [
        {
          "data": {
            "text/plain": [
              "(3214, 5)"
            ]
          },
          "execution_count": 3,
          "metadata": {},
          "output_type": "execute_result"
        }
      ],
      "source": [
        "clientes.shape"
      ]
    },
    {
      "cell_type": "markdown",
      "metadata": {
        "id": "Wu0fOaq06vQG"
      },
      "source": [
        "Tipo de características y objetivo."
      ]
    },
    {
      "cell_type": "code",
      "execution_count": null,
      "metadata": {
        "id": "CyQI2jbC6vQH",
        "outputId": "e8fd6137-5cac-4d63-cb2a-e58502de76b4"
      },
      "outputs": [
        {
          "data": {
            "text/plain": [
              "calls       float64\n",
              "minutes     float64\n",
              "messages    float64\n",
              "mb_used     float64\n",
              "is_ultra      int64\n",
              "dtype: object"
            ]
          },
          "execution_count": 4,
          "metadata": {},
          "output_type": "execute_result"
        }
      ],
      "source": [
        "clientes.dtypes"
      ]
    },
    {
      "cell_type": "markdown",
      "metadata": {
        "id": "v8WpSRmD6vQH"
      },
      "source": [
        "Visualización del dataset."
      ]
    },
    {
      "cell_type": "code",
      "execution_count": null,
      "metadata": {
        "id": "I5mMX6_h6vQH",
        "outputId": "a42d4b8a-3ecc-49eb-8403-d9324ad9b4fb"
      },
      "outputs": [
        {
          "data": {
            "text/html": [
              "<div>\n",
              "<style scoped>\n",
              "    .dataframe tbody tr th:only-of-type {\n",
              "        vertical-align: middle;\n",
              "    }\n",
              "\n",
              "    .dataframe tbody tr th {\n",
              "        vertical-align: top;\n",
              "    }\n",
              "\n",
              "    .dataframe thead th {\n",
              "        text-align: right;\n",
              "    }\n",
              "</style>\n",
              "<table border=\"1\" class=\"dataframe\">\n",
              "  <thead>\n",
              "    <tr style=\"text-align: right;\">\n",
              "      <th></th>\n",
              "      <th>calls</th>\n",
              "      <th>minutes</th>\n",
              "      <th>messages</th>\n",
              "      <th>mb_used</th>\n",
              "      <th>is_ultra</th>\n",
              "    </tr>\n",
              "  </thead>\n",
              "  <tbody>\n",
              "    <tr>\n",
              "      <th>0</th>\n",
              "      <td>40.0</td>\n",
              "      <td>311.90</td>\n",
              "      <td>83.0</td>\n",
              "      <td>19915.42</td>\n",
              "      <td>0</td>\n",
              "    </tr>\n",
              "    <tr>\n",
              "      <th>1</th>\n",
              "      <td>85.0</td>\n",
              "      <td>516.75</td>\n",
              "      <td>56.0</td>\n",
              "      <td>22696.96</td>\n",
              "      <td>0</td>\n",
              "    </tr>\n",
              "    <tr>\n",
              "      <th>2</th>\n",
              "      <td>77.0</td>\n",
              "      <td>467.66</td>\n",
              "      <td>86.0</td>\n",
              "      <td>21060.45</td>\n",
              "      <td>0</td>\n",
              "    </tr>\n",
              "    <tr>\n",
              "      <th>3</th>\n",
              "      <td>106.0</td>\n",
              "      <td>745.53</td>\n",
              "      <td>81.0</td>\n",
              "      <td>8437.39</td>\n",
              "      <td>1</td>\n",
              "    </tr>\n",
              "    <tr>\n",
              "      <th>4</th>\n",
              "      <td>66.0</td>\n",
              "      <td>418.74</td>\n",
              "      <td>1.0</td>\n",
              "      <td>14502.75</td>\n",
              "      <td>0</td>\n",
              "    </tr>\n",
              "  </tbody>\n",
              "</table>\n",
              "</div>"
            ],
            "text/plain": [
              "   calls  minutes  messages   mb_used  is_ultra\n",
              "0   40.0   311.90      83.0  19915.42         0\n",
              "1   85.0   516.75      56.0  22696.96         0\n",
              "2   77.0   467.66      86.0  21060.45         0\n",
              "3  106.0   745.53      81.0   8437.39         1\n",
              "4   66.0   418.74       1.0  14502.75         0"
            ]
          },
          "execution_count": 5,
          "metadata": {},
          "output_type": "execute_result"
        }
      ],
      "source": [
        "clientes.head(5)"
      ]
    },
    {
      "cell_type": "markdown",
      "metadata": {
        "id": "VxFZSV0-6vQH"
      },
      "source": [
        "Información General."
      ]
    },
    {
      "cell_type": "code",
      "execution_count": null,
      "metadata": {
        "id": "0sYtujGg6vQH",
        "outputId": "7419802c-4aba-4506-f46d-70697a19029c"
      },
      "outputs": [
        {
          "name": "stdout",
          "output_type": "stream",
          "text": [
            "<class 'pandas.core.frame.DataFrame'>\n",
            "RangeIndex: 3214 entries, 0 to 3213\n",
            "Data columns (total 5 columns):\n",
            " #   Column    Non-Null Count  Dtype  \n",
            "---  ------    --------------  -----  \n",
            " 0   calls     3214 non-null   float64\n",
            " 1   minutes   3214 non-null   float64\n",
            " 2   messages  3214 non-null   float64\n",
            " 3   mb_used   3214 non-null   float64\n",
            " 4   is_ultra  3214 non-null   int64  \n",
            "dtypes: float64(4), int64(1)\n",
            "memory usage: 125.7 KB\n"
          ]
        }
      ],
      "source": [
        "clientes.info()"
      ]
    },
    {
      "cell_type": "markdown",
      "metadata": {
        "id": "Mv7WmvC-6vQH"
      },
      "source": [
        "**OBSERVACIONES**\n",
        "\n",
        "**Descripción de los Datos**\n",
        "\n",
        "Cada observación en el dataset contiene información del comportamiento mensual sobre el usuario. La información dada es la siguiente:\n",
        "\n",
        "- `сalls` — número de llamadas,\n",
        "- `minutes` — duración total de la llamada en minutos,\n",
        "- `messages` — número de mensajes de texto,\n",
        "- `mb_used` — Tráfico de Internet utilizado en MB,\n",
        "- `is_ultra` — plan para el mes actual (Ultra - 1, Smart - 0)."
      ]
    },
    {
      "cell_type": "markdown",
      "metadata": {
        "id": "36B-pVFG6vQH"
      },
      "source": [
        "> Nuestros datos están en orden. En la siguiente sección vamos a traer nuestro modelo entrenado."
      ]
    },
    {
      "cell_type": "markdown",
      "metadata": {
        "id": "S6MoQ6aM6vQH"
      },
      "source": [
        "## Segmentación de Datos.\n",
        "---\n",
        "\n",
        "En este apartado vamos a dividir nuestra matriz en tres partes para obtener lo siguiente:\n",
        "\n",
        "- Set de entrenamiento (60%)\n",
        "- Set de validación (20%)\n",
        "- Set de prueba (20%)\n",
        "\n",
        "Se realizará de esta manera dado que no existe un dataset de prueba y debemos crearlo previo al entrenamiento del dataset fuente. Para hacer nuestra segmentación primero vamos a definir nuestras características y nuestro objetivo de la siguiente manera:"
      ]
    },
    {
      "cell_type": "code",
      "execution_count": null,
      "metadata": {
        "id": "dK6EXR-96vQH"
      },
      "outputs": [],
      "source": [
        "features = clientes.drop(['is_ultra'], axis=1) # Conjunto de características.\n",
        "target   = clientes['is_ultra']                # Objetivo Selección de Modelo."
      ]
    },
    {
      "cell_type": "markdown",
      "metadata": {
        "id": "dRNj2ZQL6vQI"
      },
      "source": [
        "Realizamos split para obtener conjunto de entrenamiento (80%) y prueba (20%)."
      ]
    },
    {
      "cell_type": "code",
      "execution_count": null,
      "metadata": {
        "id": "_e5-EipD6vQI"
      },
      "outputs": [],
      "source": [
        "X_rest, X_test, y_rest, y_test = train_test_split(\n",
        "    features,\n",
        "    target,\n",
        "    test_size = 0.20,\n",
        "    random_state=12345)"
      ]
    },
    {
      "cell_type": "markdown",
      "metadata": {
        "id": "WByqmbOW6vQI"
      },
      "source": [
        "Verificamos split."
      ]
    },
    {
      "cell_type": "code",
      "execution_count": null,
      "metadata": {
        "id": "tz2uCXnK6vQI",
        "outputId": "31c891d1-6276-4bce-9677-d08af84668ed"
      },
      "outputs": [
        {
          "data": {
            "text/plain": [
              "((2571, 4), (2571,), (643, 4), (643,))"
            ]
          },
          "execution_count": 9,
          "metadata": {},
          "output_type": "execute_result"
        }
      ],
      "source": [
        "X_rest.shape, y_rest.shape, X_test.shape, y_test.shape"
      ]
    },
    {
      "cell_type": "markdown",
      "metadata": {
        "id": "a4M1QRkC6vQI"
      },
      "source": [
        "Ahora obtenemos conjunto de validación (20%) usando el 80% del conjunto resultante anterior para obtener el 60%."
      ]
    },
    {
      "cell_type": "code",
      "execution_count": null,
      "metadata": {
        "id": "xEOebcdn6vQI"
      },
      "outputs": [],
      "source": [
        "X_train, X_val, y_train, y_val = train_test_split(\n",
        "    X_rest,\n",
        "    y_rest,\n",
        "    test_size=0.25,\n",
        "    random_state=12345)"
      ]
    },
    {
      "cell_type": "markdown",
      "metadata": {
        "id": "CC3Y8HeZ6vQI"
      },
      "source": [
        "Comprobamos split."
      ]
    },
    {
      "cell_type": "code",
      "execution_count": null,
      "metadata": {
        "id": "OnP75X-76vQI",
        "outputId": "e17c098e-6b4b-4455-ac6b-dc3945150e64"
      },
      "outputs": [
        {
          "data": {
            "text/plain": [
              "((1928, 4), (1928,), (643, 4), (643,))"
            ]
          },
          "execution_count": 11,
          "metadata": {},
          "output_type": "execute_result"
        }
      ],
      "source": [
        "X_train.shape, y_train.shape, X_val.shape, y_val.shape"
      ]
    },
    {
      "cell_type": "markdown",
      "metadata": {
        "id": "PI8nAwUt6vQI"
      },
      "source": [
        "Enlistamos nuestros sets de prueba, entrenamiento y validación."
      ]
    },
    {
      "cell_type": "code",
      "execution_count": null,
      "metadata": {
        "id": "N_6WKtrl6vQI",
        "outputId": "7f82fdfb-704c-4c8b-dc87-26d0571f9808"
      },
      "outputs": [
        {
          "name": "stdout",
          "output_type": "stream",
          "text": [
            "Dataset de Entrenamiento (60%): (1928, 4) (1928,) \n",
            " Dataset de Prueba (20%): (643, 4) (643,) \n",
            " Dataset de Validación (20%): (643, 4) (643,)\n"
          ]
        }
      ],
      "source": [
        "print(\n",
        "    'Dataset de Entrenamiento (60%):', X_train.shape, y_train.shape,'\\n',\n",
        "    'Dataset de Prueba (20%):'       , X_test.shape , y_test.shape,'\\n',\n",
        "    'Dataset de Validación (20%):'   , X_val.shape  , y_val.shape\n",
        ")"
      ]
    },
    {
      "cell_type": "markdown",
      "metadata": {
        "id": "nBQt7lQB6vQI"
      },
      "source": [
        "Comprobación del Split."
      ]
    },
    {
      "cell_type": "code",
      "execution_count": null,
      "metadata": {
        "id": "WmbRgnEw6vQI",
        "outputId": "c8667397-36ac-4550-b948-fe730156d5e1"
      },
      "outputs": [
        {
          "name": "stdout",
          "output_type": "stream",
          "text": [
            "Dataset Fuente: 3214\n",
            "Total de los Splits: 3214\n"
          ]
        }
      ],
      "source": [
        "print('Dataset Fuente:'     , clientes.shape[0]),\n",
        "print('Total de los Splits:', X_train.shape[0] + X_test.shape[0] + X_val.shape[0])"
      ]
    },
    {
      "cell_type": "markdown",
      "metadata": {
        "id": "K8NPV6NT6vQJ"
      },
      "source": [
        "## Investigar la Calidad de los Diferentes Modelos.\n",
        "---\n",
        "\n",
        "Ya que tenemos nuestros datasets listos, ahora vamos a escoger el mejor modelo a entrenar para esta tarea. En primer lugar debemos considerar que nuestra tarea es de *Clasificación* por lo cual que debemos enfocarnos en ello.\n",
        "\n",
        "Para las tareas de clasificación tenemos 3 modelos que son:\n",
        "\n",
        "- árbol de decisión.\n",
        "- regresión logística.\n",
        "- bosque aleatorio.\n",
        "\n",
        "Para nuestro caso vamos a escoger el modelo de regresión logística porque su velocidad de ejecuciòn es más rápida y  porque tiene una precisión intermedia que por lo regular no tiene sobreajusto y nos puede funcionar. Además este modelo contribuye para la aplicación de eventos binarios, es decir, eventos donde ocurre una u otra opción así que vamos a nuestro modelo."
      ]
    },
    {
      "cell_type": "markdown",
      "metadata": {
        "id": "P2SVVQcG6vQJ"
      },
      "source": [
        "### Modelo Regresión Logística."
      ]
    },
    {
      "cell_type": "code",
      "execution_count": null,
      "metadata": {
        "id": "Wt_VO2fN6vQJ",
        "outputId": "75c0ccf4-3ae7-4617-9416-50e61f73965b"
      },
      "outputs": [
        {
          "data": {
            "text/plain": [
              "LogisticRegression(random_state=12345)"
            ]
          },
          "execution_count": 14,
          "metadata": {},
          "output_type": "execute_result"
        }
      ],
      "source": [
        "# Seleccionamos modelo de regresión logística.\n",
        "rl_model = LogisticRegression(random_state=12345)\n",
        "# Entrenamos nuestro modelo.\n",
        "rl_model.fit(X_train, y_train)"
      ]
    },
    {
      "cell_type": "markdown",
      "metadata": {
        "id": "l7Nahabf6vQJ"
      },
      "source": [
        "Mostrar la Exactitud del Modelo."
      ]
    },
    {
      "cell_type": "code",
      "execution_count": null,
      "metadata": {
        "id": "XEA6kDDb6vQJ",
        "outputId": "a72accb7-4b55-47bf-a655-27ce27fd5616"
      },
      "outputs": [
        {
          "name": "stdout",
          "output_type": "stream",
          "text": [
            "Exactitud del modelo de regresión logística en el conjunto de prueba: 0.7589424572317263\n"
          ]
        }
      ],
      "source": [
        "rl_score_test = rl_model.score(X_test, y_test)\n",
        "\n",
        "print('Exactitud del modelo de regresión logística en el conjunto de prueba:', rl_score_test)"
      ]
    },
    {
      "cell_type": "markdown",
      "metadata": {
        "id": "-DqdOfOF6vQJ"
      },
      "source": [
        "**Observaciones**\n",
        "\n",
        "> Los datos nos muestran que nuestro modelo tiene una gran exactitud justo como lo habíamos predicho aunque el modelo de entrenamiento es poco más preciso que el modelo de validación. Posiblemente sea el mejor modelo que podamos escoger pero vamos a intentar con otro modelo para estar seguros."
      ]
    },
    {
      "cell_type": "markdown",
      "metadata": {
        "id": "gMpevvw26vQJ"
      },
      "source": [
        "### Bosque Aleatorio.\n",
        "\n",
        "El modelo que selecionamos ahora será un bosque aletario debido a que consta de un gran nivel de exactitud, el problema es que la velocidad de ejecución es lenta, cuantos más árboles haya más lento será este modelo.\n",
        "\n",
        "Encontremos el Mejor Modelo."
      ]
    },
    {
      "cell_type": "code",
      "execution_count": null,
      "metadata": {
        "id": "KODh1EjE6vQJ",
        "outputId": "9e403a74-1b4d-4a8e-ef13-ed17f1f13fc6"
      },
      "outputs": [
        {
          "name": "stdout",
          "output_type": "stream",
          "text": [
            "Exactitud del mejor modelo en el conjunto de validación (n_estimators = 1):1\n"
          ]
        }
      ],
      "source": [
        "best_score = 0\n",
        "best_est   = 0\n",
        "\n",
        "for est in range(1,31):\n",
        "    ba_model = RandomForestClassifier(random_state=12345, n_estimators=est) # Configurar No de árboles.\n",
        "    ba_model.fit(X_train, y_train)                                          # Entrenamos Modelo\n",
        "    ba_model_score = ba_model.score(X_test, y_test)\n",
        "    if ba_model_score > best_score:\n",
        "        best_score += 1   # Mejor puntuación de exactitud.\n",
        "        best_est   += 1   # Mejores estimaciones correspondientes a la mejor puntuación de exactitud.\n",
        "\n",
        "print('Exactitud del mejor modelo en el conjunto de validación (n_estimators = {}):{}'.format(best_est, best_score))"
      ]
    },
    {
      "cell_type": "code",
      "execution_count": null,
      "metadata": {
        "id": "eoLWPmmc6vQK",
        "outputId": "7093e6fd-4f1c-40d4-eda1-bbb9707ade11"
      },
      "outputs": [
        {
          "name": "stdout",
          "output_type": "stream",
          "text": [
            "El mejor modelo del conjunto con n_estimartors = 1 es: 0.7853810264385692\n"
          ]
        }
      ],
      "source": [
        "print('El mejor modelo del conjunto con n_estimartors = 1 es:', ba_model_score)"
      ]
    },
    {
      "cell_type": "markdown",
      "metadata": {
        "id": "y2MMVKCQ6vQK"
      },
      "source": [
        "**Observaciones**\n",
        "\n",
        "> La exactitud de nuestro modelo es excelente pero nuestro umbral de exactitud para este proyecto es de 0.75 así que esta fuera de los límites. Por lo tanto vamos nos quedaremos con el modelo de regresión líneal."
      ]
    },
    {
      "cell_type": "markdown",
      "metadata": {
        "id": "UzklEvjc6vQK"
      },
      "source": [
        "### Árbol de Decisión.\n",
        "\n",
        "Dentro de sus características se encuentran el tener una baja precisión aunque cuenta con la velocidad más alta de ejecución. Vamos a investigarlo y veamos qué resultados nos puede proporcionar."
      ]
    },
    {
      "cell_type": "code",
      "execution_count": null,
      "metadata": {
        "id": "HI40anqX6vQK",
        "outputId": "992fb4da-1206-4897-b36d-dadb0b358f21"
      },
      "outputs": [
        {
          "data": {
            "text/plain": [
              "DecisionTreeClassifier(random_state=12345)"
            ]
          },
          "execution_count": 18,
          "metadata": {},
          "output_type": "execute_result"
        }
      ],
      "source": [
        "ad_model = DecisionTreeClassifier(random_state=12345) # Seleccionamos Modelo.\n",
        "ad_model.fit(X_train, y_train)                        # Entrenamos Modelo."
      ]
    },
    {
      "cell_type": "markdown",
      "metadata": {
        "id": "uhS9sMNX6vQK"
      },
      "source": [
        "Comprobamos Calidad."
      ]
    },
    {
      "cell_type": "code",
      "execution_count": null,
      "metadata": {
        "id": "eTzctAkq6vQK",
        "outputId": "ef9c0855-316a-45af-aa72-63b4e07774be"
      },
      "outputs": [
        {
          "data": {
            "text/plain": [
              "0.7309486780715396"
            ]
          },
          "execution_count": 19,
          "metadata": {},
          "output_type": "execute_result"
        }
      ],
      "source": [
        "ad_model.score(X_test, y_test)"
      ]
    },
    {
      "cell_type": "markdown",
      "metadata": {
        "id": "Fnjw6Ret6vQK"
      },
      "source": [
        "Encontremos el mejor modelo modificando la profundidad."
      ]
    },
    {
      "cell_type": "code",
      "execution_count": null,
      "metadata": {
        "id": "QRw8fRWt6vQK",
        "outputId": "55c4bfbe-4a03-4784-f2ed-2b1a66ee959d"
      },
      "outputs": [
        {
          "name": "stdout",
          "output_type": "stream",
          "text": [
            "Exactitud del mejor modelo en el conjunto de validacion: 0.7869362363919129\n"
          ]
        }
      ],
      "source": [
        "best_model = None\n",
        "best_result = 0\n",
        "\n",
        "for depth in range(1, 5):\n",
        "    ad_model = DecisionTreeClassifier(random_state=12345, max_depth = depth) # creamos modelo con la profundidad proporcionada\n",
        "    ad_model.fit(X_train, y_train) # entrena el modelo\n",
        "    predictions = ad_model.predict(X_test) # obtén las predicciones del modelo\n",
        "    result = accuracy_score(y_test, predictions) # calcula la exactitud\n",
        "    if result > best_result:\n",
        "        best_model = ad_model\n",
        "        best_result = result\n",
        "\n",
        "print(\"Exactitud del mejor modelo en el conjunto de validacion:\", best_result)"
      ]
    },
    {
      "cell_type": "markdown",
      "metadata": {
        "id": "vwzABheG6vQL"
      },
      "source": [
        "**Observaciones**\n",
        "\n",
        "> En un listado que realizamos ajustando la profundidad nuestro modelo nos indica que el mejor modelo de validación tiene un 78% de exactitud."
      ]
    },
    {
      "cell_type": "markdown",
      "metadata": {
        "id": "ICrTCGQl6vQL"
      },
      "source": [
        "## Comprobar la Calidad\n",
        "\n",
        "---\n",
        "\n",
        "En el punto anterior averiguamos cuál de todos los modelos cumplía con tener el umbral de 0.75, ahora esta sección vamos a poner a prueba nuestro modelo de regresión logística para conocer su funcionamiento con un dataset que nuestro modelo no conoce, en este caso el de validación."
      ]
    },
    {
      "cell_type": "markdown",
      "metadata": {
        "id": "M0GQjm4r6vQL"
      },
      "source": [
        "Definimos prediciones."
      ]
    },
    {
      "cell_type": "code",
      "execution_count": null,
      "metadata": {
        "id": "8DPu3Bk06vQL"
      },
      "outputs": [],
      "source": [
        "## Recordemos que el nombre de nuestro modelo es rl_model.\n",
        "X_predict = rl_model.predict(X_test)"
      ]
    },
    {
      "cell_type": "markdown",
      "metadata": {
        "id": "gSjcQ_P46vQL"
      },
      "source": [
        "Verificamos la Calidad del Modelo"
      ]
    },
    {
      "cell_type": "code",
      "execution_count": null,
      "metadata": {
        "id": "UJuGfbSa6vQL",
        "outputId": "d1e981a2-6b08-4257-b353-e2ba093010e5"
      },
      "outputs": [
        {
          "name": "stdout",
          "output_type": "stream",
          "text": [
            "Exactitud del modelo en el conjunto de validación: 0.7589424572317263\n"
          ]
        }
      ],
      "source": [
        "LR_result = accuracy_score(y_test, X_predict)\n",
        "print('Exactitud del modelo en el conjunto de validación:', LR_result)"
      ]
    },
    {
      "cell_type": "markdown",
      "metadata": {
        "id": "vRxr6P2j6vQL"
      },
      "source": [
        "## Prueba de Cordura.\n",
        "\n",
        "---\n",
        "\n",
        "Vamos a realizar nuestra prueba de cordura seleccionando el mejor modelo que encontramos anteriormente, recordemos que tenemos un umbral de 0.75 de exactitud. Se entiende que por umbral no debemos rebasar este límite de exactitud, es decir que no debemos ir más allá  del límite de 0.75 por lo tanto nuestro modelo a elegir debe ser el de Regresión Logística."
      ]
    },
    {
      "cell_type": "code",
      "execution_count": null,
      "metadata": {
        "id": "dkJMblt56vQL",
        "outputId": "49b1e1a5-2b1d-4ef0-f3b8-fa0fc964cade"
      },
      "outputs": [
        {
          "name": "stdout",
          "output_type": "stream",
          "text": [
            "La exactitud final de nuestro modelo es: 0.7262830482115086\n",
            "RECM del modelo de regresión lineal en el conjunto de validación: 0.5231796553656224\n"
          ]
        }
      ],
      "source": [
        "# Entrenar Nuevo Modelo.\n",
        "lo_regression = LogisticRegression(random_state=12345)\n",
        "\n",
        "# Entrenamos con X_rest\n",
        "# Esta variable contiene los conjuntos de X_train y X_test, es decir el 80% de nuestros datos.\n",
        "lo_regression.fit(X_rest,y_rest)\n",
        "\n",
        "# Obtenemos las predicciones en el conjunto de validación.\n",
        "y_pred = lo_regression.predict(X_val)\n",
        "\n",
        "# Obtenemos Score de Exactitud y RECM.\n",
        "acc  = accuracy_score(y_val, y_pred)\n",
        "recm = mean_squared_error(y_val, y_pred, squared=False) # Métrica extra.\n",
        "print('La exactitud final de nuestro modelo es:', acc)\n",
        "print('RECM del modelo de regresión lineal en el conjunto de validación:', recm)"
      ]
    },
    {
      "cell_type": "markdown",
      "metadata": {
        "id": "O_3rNqWG6vQL"
      },
      "source": [
        "**CONCLUSIONES**\n",
        "\n",
        "> Nuestra prueba de cordura nos muestra una exactitud final de 0.72 pts respecto al modelo entrenado que fue de 0.75 es decir hay una variación de 3 pts en nuestro modelo."
      ]
    }
  ],
  "metadata": {
    "kernelspec": {
      "display_name": "Python 3 (ipykernel)",
      "language": "python",
      "name": "python3"
    },
    "language_info": {
      "codemirror_mode": {
        "name": "ipython",
        "version": 3
      },
      "file_extension": ".py",
      "mimetype": "text/x-python",
      "name": "python",
      "nbconvert_exporter": "python",
      "pygments_lexer": "ipython3",
      "version": "3.9.5"
    },
    "toc": {
      "base_numbering": 1,
      "nav_menu": {},
      "number_sections": true,
      "sideBar": true,
      "skip_h1_title": true,
      "title_cell": "Table of Contents",
      "title_sidebar": "Contents",
      "toc_cell": false,
      "toc_position": {},
      "toc_section_display": true,
      "toc_window_display": false
    },
    "colab": {
      "provenance": []
    }
  },
  "nbformat": 4,
  "nbformat_minor": 0
}