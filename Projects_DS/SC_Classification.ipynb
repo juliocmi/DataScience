{
  "nbformat": 4,
  "nbformat_minor": 0,
  "metadata": {
    "colab": {
      "provenance": []
    },
    "kernelspec": {
      "name": "python3",
      "display_name": "Python 3"
    },
    "language_info": {
      "name": "python"
    }
  },
  "cells": [
    {
      "cell_type": "markdown",
      "source": [
        "# Caso de Estudio de Clasificación KNN Neighbors\n",
        "---\n",
        "**NoteBook:** DataScientist Julio C. Martínez I.\n",
        "\n",
        "**Fecha:** 11-Ene-2024"
      ],
      "metadata": {
        "id": "HBkf8yBXGuRm"
      }
    },
    {
      "cell_type": "markdown",
      "source": [
        "# Introducción\n",
        "---\n",
        "Este es un caso de estudio donde vamos a realizar una clasificación sencilla utilizando una de las librerías más completas para python llamada scikit learn. El dataset utilizado será de imagenes pero no trabajaremos con ellas, vamos a trabajar con los pixeles de esas imagenes.\n",
        "\n",
        "Vamos a trabajar con tres algoritmos diferentes y vamos a evaluar su desempeño, pero antes de eso deberemos realizar un poco de exploración, análisis y visualización del dataset que nos presentan a continuación."
      ],
      "metadata": {
        "id": "P-53yueWN3I0"
      }
    },
    {
      "cell_type": "markdown",
      "source": [
        "# Librerías Requeridas\n",
        "---\n",
        "\n",
        "- pandas\n",
        "- matplotlib\n",
        "- seaborn\n",
        "- scikit-learn"
      ],
      "metadata": {
        "id": "uo7Ovaj2OFmn"
      }
    },
    {
      "cell_type": "markdown",
      "source": [
        "# Tabla de Contenido\n",
        "\n",
        "- Etapa 1: Importar librerías\n",
        "- Etapa 2: Exploración de Datos\n",
        "- Etapa 3: Visualización de Datos\n",
        "- Etapa 4: Feature Engineering\n",
        "- Etapa 5 : Crear y Entrenar Modelo\n",
        "- Etapa 6 : Evaluación del Modelo\n",
        "- Etapa 7 : Reporte de Clasificación\n",
        "- Etapa 8 : K-Fold Validación Cruzada\n",
        "- Etapa 9 : Probar Varios Modelos\n",
        "- Etapa 10 : Ajustar Hiperparámetros\n",
        "- Conclusiones"
      ],
      "metadata": {
        "id": "I73OPtLkqTle"
      }
    },
    {
      "cell_type": "markdown",
      "source": [
        "## Etapa 1: Importar librerías"
      ],
      "metadata": {
        "id": "oBUj_Zs7OW1M"
      }
    },
    {
      "cell_type": "code",
      "execution_count": 1,
      "metadata": {
        "id": "2rSbvgIzDBy7"
      },
      "outputs": [],
      "source": [
        "import pandas as pd\n",
        "import matplotlib.pyplot as plt\n",
        "import seaborn as sns\n",
        "\n",
        "from sklearn.datasets import load_digits\n",
        "from sklearn.model_selection import train_test_split, cross_val_score\n",
        "from sklearn.neighbors import KNeighborsClassifier\n",
        "from sklearn.metrics import confusion_matrix, classification_report\n",
        "from sklearn.model_selection import KFold\n",
        "from sklearn.svm import SVC\n",
        "from sklearn.naive_bayes import GaussianNB"
      ]
    },
    {
      "cell_type": "code",
      "source": [
        "# asignamos dataset\n",
        "digits = load_digits()\n",
        "\n",
        "# descripción del dataset\n",
        "print(digits.DESCR)"
      ],
      "metadata": {
        "colab": {
          "base_uri": "https://localhost:8080/"
        },
        "id": "-Q30DI0EOetp",
        "outputId": "35356797-0296-4941-accd-40f298f4d7c6"
      },
      "execution_count": 2,
      "outputs": [
        {
          "output_type": "stream",
          "name": "stdout",
          "text": [
            ".. _digits_dataset:\n",
            "\n",
            "Optical recognition of handwritten digits dataset\n",
            "--------------------------------------------------\n",
            "\n",
            "**Data Set Characteristics:**\n",
            "\n",
            "    :Number of Instances: 1797\n",
            "    :Number of Attributes: 64\n",
            "    :Attribute Information: 8x8 image of integer pixels in the range 0..16.\n",
            "    :Missing Attribute Values: None\n",
            "    :Creator: E. Alpaydin (alpaydin '@' boun.edu.tr)\n",
            "    :Date: July; 1998\n",
            "\n",
            "This is a copy of the test set of the UCI ML hand-written digits datasets\n",
            "https://archive.ics.uci.edu/ml/datasets/Optical+Recognition+of+Handwritten+Digits\n",
            "\n",
            "The data set contains images of hand-written digits: 10 classes where\n",
            "each class refers to a digit.\n",
            "\n",
            "Preprocessing programs made available by NIST were used to extract\n",
            "normalized bitmaps of handwritten digits from a preprinted form. From a\n",
            "total of 43 people, 30 contributed to the training set and different 13\n",
            "to the test set. 32x32 bitmaps are divided into nonoverlapping blocks of\n",
            "4x4 and the number of on pixels are counted in each block. This generates\n",
            "an input matrix of 8x8 where each element is an integer in the range\n",
            "0..16. This reduces dimensionality and gives invariance to small\n",
            "distortions.\n",
            "\n",
            "For info on NIST preprocessing routines, see M. D. Garris, J. L. Blue, G.\n",
            "T. Candela, D. L. Dimmick, J. Geist, P. J. Grother, S. A. Janet, and C.\n",
            "L. Wilson, NIST Form-Based Handprint Recognition System, NISTIR 5469,\n",
            "1994.\n",
            "\n",
            ".. topic:: References\n",
            "\n",
            "  - C. Kaynak (1995) Methods of Combining Multiple Classifiers and Their\n",
            "    Applications to Handwritten Digit Recognition, MSc Thesis, Institute of\n",
            "    Graduate Studies in Science and Engineering, Bogazici University.\n",
            "  - E. Alpaydin, C. Kaynak (1998) Cascading Classifiers, Kybernetika.\n",
            "  - Ken Tang and Ponnuthurai N. Suganthan and Xi Yao and A. Kai Qin.\n",
            "    Linear dimensionalityreduction using relevance weighted LDA. School of\n",
            "    Electrical and Electronic Engineering Nanyang Technological University.\n",
            "    2005.\n",
            "  - Claudio Gentile. A New Approximate Maximal Margin Classification\n",
            "    Algorithm. NIPS. 2000.\n",
            "\n"
          ]
        }
      ]
    },
    {
      "cell_type": "markdown",
      "source": [
        "## Etapa 2: Exploración de Datos\n",
        "\n",
        "- Hay 1797 instancias\n",
        "- 64 Atributos\n",
        "- Imagenes de 8x8\n",
        "\n",
        "En términos de pixeles, tenemos en el dataset una escala de grises en escala del 0 al 16. El cero representa el color blanco totalmente y el 16 representa el color negro. Cada una de las imágenes está dividida en 8x8 pixeles y cada pixel tiene un valor de intensidad, y esa intensidad se representa con esos valores que van del 0 al 16."
      ],
      "metadata": {
        "id": "1fO8oPomPRyC"
      }
    },
    {
      "cell_type": "code",
      "source": [
        "# tarjet del objetivo\n",
        "digits.target[::100]"
      ],
      "metadata": {
        "colab": {
          "base_uri": "https://localhost:8080/"
        },
        "id": "Qo2cISEKPDI0",
        "outputId": "42cabdfa-d4de-4dba-f172-b29e4692831e"
      },
      "execution_count": 3,
      "outputs": [
        {
          "output_type": "execute_result",
          "data": {
            "text/plain": [
              "array([0, 4, 1, 7, 4, 8, 2, 2, 4, 4, 1, 9, 7, 3, 2, 1, 2, 5])"
            ]
          },
          "metadata": {},
          "execution_count": 3
        }
      ]
    },
    {
      "cell_type": "markdown",
      "source": [
        "El array que se muestra significa que la primera imagen, dentro de la escala de grises, tiene una intensidad correspondiente a 0, es decir, es totalmente negra. El segundo valor que encontramos en el dataset corresponde a la imagen número 99 y cuenta con una escala de grises de valor 4. El tercer valor corresponde a la imagen No 199 y tiene el valor de 1.\n",
        "\n",
        "En otras palabras, imprimimos los valores de las escalas de grises del dataset en múltiplos de 100."
      ],
      "metadata": {
        "id": "lzAx90cfQ-GH"
      }
    },
    {
      "cell_type": "code",
      "source": [
        "# algunos datos sobre el dataset\n",
        "print('Tamaño del dataset:', digits.data.shape)\n",
        "print('Tamaño del target:',digits.target.shape)"
      ],
      "metadata": {
        "colab": {
          "base_uri": "https://localhost:8080/"
        },
        "id": "BcqHMddSQuGp",
        "outputId": "14def2b1-0c3c-4ab2-a352-e851cbe33e28"
      },
      "execution_count": 4,
      "outputs": [
        {
          "output_type": "stream",
          "name": "stdout",
          "text": [
            "Tamaño del dataset: (1797, 64)\n",
            "Tamaño del target: (1797,)\n"
          ]
        }
      ]
    },
    {
      "cell_type": "markdown",
      "source": [
        "Se puede comprobar que el set de datos cuenta con 1797 filas y 64 columnas. Para nuestro siguiente paso, vamos a visualizar la imagen #15 del dataset, ojo no esperes verla en el formato como tal, ya que como mensionamos anteriormente estamos trabajando con pixeles, por lo tanto lo que vamos a visualizar son los pixeles de esa imagen y específicamente su escala de grises."
      ],
      "metadata": {
        "id": "Gzf0ubESTQTb"
      }
    },
    {
      "cell_type": "code",
      "source": [
        "# revisando la imagen #15\n",
        "digits.images[15]"
      ],
      "metadata": {
        "colab": {
          "base_uri": "https://localhost:8080/"
        },
        "id": "W-ktoXDLQuOd",
        "outputId": "aa27b405-38bf-42d8-ae1b-8d1f2aa8c22e"
      },
      "execution_count": 5,
      "outputs": [
        {
          "output_type": "execute_result",
          "data": {
            "text/plain": [
              "array([[ 0.,  5., 12., 13., 16., 16.,  2.,  0.],\n",
              "       [ 0., 11., 16., 15.,  8.,  4.,  0.,  0.],\n",
              "       [ 0.,  8., 14., 11.,  1.,  0.,  0.,  0.],\n",
              "       [ 0.,  8., 16., 16., 14.,  0.,  0.,  0.],\n",
              "       [ 0.,  1.,  6.,  6., 16.,  0.,  0.,  0.],\n",
              "       [ 0.,  0.,  0.,  5., 16.,  3.,  0.,  0.],\n",
              "       [ 0.,  1.,  5., 15., 13.,  0.,  0.,  0.],\n",
              "       [ 0.,  4., 15., 16.,  2.,  0.,  0.,  0.]])"
            ]
          },
          "metadata": {},
          "execution_count": 5
        }
      ]
    },
    {
      "cell_type": "markdown",
      "source": [
        "Una de las reglas del machine learning nos dice que para trabajar con imágenes es importante transformar nuestras matrices multidimensionales en matrises bidimencionales. Por fortuna este dataset ya cuenta con esta transformación así que vamos a visualizar este dataset \"aplanado\", por llamarlo de alguna manera."
      ],
      "metadata": {
        "id": "kzBOUTVJUnlZ"
      }
    },
    {
      "cell_type": "code",
      "source": [
        "# arreglo en 1x64\n",
        "digits.data[15]"
      ],
      "metadata": {
        "colab": {
          "base_uri": "https://localhost:8080/"
        },
        "id": "Dy2JZYzrQuV7",
        "outputId": "31b940b5-8747-4a75-ea54-bfdc3471b6e6"
      },
      "execution_count": 6,
      "outputs": [
        {
          "output_type": "execute_result",
          "data": {
            "text/plain": [
              "array([ 0.,  5., 12., 13., 16., 16.,  2.,  0.,  0., 11., 16., 15.,  8.,\n",
              "        4.,  0.,  0.,  0.,  8., 14., 11.,  1.,  0.,  0.,  0.,  0.,  8.,\n",
              "       16., 16., 14.,  0.,  0.,  0.,  0.,  1.,  6.,  6., 16.,  0.,  0.,\n",
              "        0.,  0.,  0.,  0.,  5., 16.,  3.,  0.,  0.,  0.,  1.,  5., 15.,\n",
              "       13.,  0.,  0.,  0.,  0.,  4., 15., 16.,  2.,  0.,  0.,  0.])"
            ]
          },
          "metadata": {},
          "execution_count": 6
        }
      ]
    },
    {
      "cell_type": "markdown",
      "source": [
        "## Etapa 3: Visualización de Datos\n",
        "\n",
        "Para esta etapa vamos a realizar un poco de visualización para familiarizarnos más en profunidad con lo que hemos explorado anteriormente, para ello, vamos a crear primero una cuadrícula."
      ],
      "metadata": {
        "id": "3VQ9g37DWwJz"
      }
    },
    {
      "cell_type": "code",
      "source": [
        "# dibujar una cuadricula\n",
        "figure,axes=plt.subplots(nrows=4,ncols=6,figsize=(6,4))"
      ],
      "metadata": {
        "colab": {
          "base_uri": "https://localhost:8080/",
          "height": 374
        },
        "id": "PMMvyw3_Qufd",
        "outputId": "a7e195ec-8f66-4b30-8ff6-7554d800f72d"
      },
      "execution_count": 7,
      "outputs": [
        {
          "output_type": "display_data",
          "data": {
            "text/plain": [
              "<Figure size 600x400 with 24 Axes>"
            ],
            "image/png": "[encoded data removed]"
          },
          "metadata": {}
        }
      ]
    },
    {
      "cell_type": "markdown",
      "source": [
        "Ahora vamos a iterar sobre esta cuadrícula para traer las primeras 24 imágenes"
      ],
      "metadata": {
        "id": "wr7T9ehuX0f7"
      }
    },
    {
      "cell_type": "code",
      "source": [
        "figure,axes=plt.subplots(nrows=4,ncols=6,figsize=(6,4))\n",
        "\n",
        "for item in zip(axes.ravel(), digits.images, digits.target):\n",
        "  axes,image,target=item\n",
        "  axes.imshow(image,cmap=plt.cm.gray_r)\n",
        "  axes.set_xticks([])\n",
        "  axes.set_yticks([])\n",
        "  axes.set_title(target)\n",
        "\n",
        "plt.tight_layout\n",
        "plt.show();"
      ],
      "metadata": {
        "colab": {
          "base_uri": "https://localhost:8080/",
          "height": 366
        },
        "id": "oQPuT3DoQuk4",
        "outputId": "30c81a26-eea7-44c4-e477-c4742a21cd1a"
      },
      "execution_count": 8,
      "outputs": [
        {
          "output_type": "display_data",
          "data": {
            "text/plain": [
              "<Figure size 600x400 with 24 Axes>"
            ],
            "image/png": "[encoded data removed]"
          },
          "metadata": {}
        }
      ]
    },
    {
      "cell_type": "markdown",
      "source": [
        "Ahora podemos ver los números que estabamos búscando junto con su target, es decir, las manchas en color negro. Nuestro algoritmo debe poder discernir entre las manchas negras y asignarle el número correcto."
      ],
      "metadata": {
        "id": "JwqVoQZuY2Vv"
      }
    },
    {
      "cell_type": "markdown",
      "source": [
        "## Etapa 4: Feature Engineering\n",
        "---\n",
        "\n",
        "En esta etapa vamos a dividir nuestro set de entrenamiento y set de prueba para decirle a nuestro modelo qué es lo que debe aprender y qué es lo que debe poner a prueba."
      ],
      "metadata": {
        "id": "8akWzQr_ZmWn"
      }
    },
    {
      "cell_type": "code",
      "source": [
        "X_train,X_test,y_train,y_test = train_test_split(digits.data, digits.target, random_state=12345)"
      ],
      "metadata": {
        "id": "jkJrn6jeX60O"
      },
      "execution_count": 9,
      "outputs": []
    },
    {
      "cell_type": "code",
      "source": [
        "print('Tamaño del set de entrenamiento:', X_train.shape)\n",
        "print('Tamaño del target de entrenamiento:', y_train.shape)\n",
        "print('- - - ' * 7)\n",
        "print('Tamaño del set de prueba:', X_test.shape)\n",
        "print('Tamaño del target de prueba:', y_test.shape)"
      ],
      "metadata": {
        "colab": {
          "base_uri": "https://localhost:8080/"
        },
        "id": "NV5Wy7k7X65J",
        "outputId": "8b214b43-3681-414b-fc9d-d769118c3e71"
      },
      "execution_count": 10,
      "outputs": [
        {
          "output_type": "stream",
          "name": "stdout",
          "text": [
            "Tamaño del set de entrenamiento: (1347, 64)\n",
            "Tamaño del target de entrenamiento: (1347,)\n",
            "- - - - - - - - - - - - - - - - - - - - - \n",
            "Tamaño del set de prueba: (450, 64)\n",
            "Tamaño del target de prueba: (450,)\n"
          ]
        }
      ]
    },
    {
      "cell_type": "markdown",
      "source": [
        "## Etapa 5 : Crear y Entrenar Modelo\n",
        "\n",
        "Para nuestro caso de estudio vamos a trabajar con el algorimto KNN Classifier."
      ],
      "metadata": {
        "id": "Ng-axDFPbwwp"
      }
    },
    {
      "cell_type": "code",
      "source": [
        "# instanciar modelo\n",
        "knn = KNeighborsClassifier()\n",
        "knn.fit(X_train, y_train)"
      ],
      "metadata": {
        "colab": {
          "base_uri": "https://localhost:8080/",
          "height": 75
        },
        "id": "pol6aA_YX68F",
        "outputId": "e2c798ec-9179-4861-9f3d-5f168e55b1aa"
      },
      "execution_count": 11,
      "outputs": [
        {
          "output_type": "execute_result",
          "data": {
            "text/plain": [
              "KNeighborsClassifier()"
            ],
            "text/html": [
              "<style>#sk-container-id-1 {color: black;background-color: white;}#sk-container-id-1 pre{padding: 0;}#sk-container-id-1 div.sk-toggleable {background-color: white;}#sk-container-id-1 label.sk-toggleable__label {cursor: pointer;display: block;width: 100%;margin-bottom: 0;padding: 0.3em;box-sizing: border-box;text-align: center;}#sk-container-id-1 label.sk-toggleable__label-arrow:before {content: \"▸\";float: left;margin-right: 0.25em;color: #696969;}#sk-container-id-1 label.sk-toggleable__label-arrow:hover:before {color: black;}#sk-container-id-1 div.sk-estimator:hover label.sk-toggleable__label-arrow:before {color: black;}#sk-container-id-1 div.sk-toggleable__content {max-height: 0;max-width: 0;overflow: hidden;text-align: left;background-color: #f0f8ff;}#sk-container-id-1 div.sk-toggleable__content pre {margin: 0.2em;color: black;border-radius: 0.25em;background-color: #f0f8ff;}#sk-container-id-1 input.sk-toggleable__control:checked~div.sk-toggleable__content {max-height: 200px;max-width: 100%;overflow: auto;}#sk-container-id-1 input.sk-toggleable__control:checked~label.sk-toggleable__label-arrow:before {content: \"▾\";}#sk-container-id-1 div.sk-estimator input.sk-toggleable__control:checked~label.sk-toggleable__label {background-color: #d4ebff;}#sk-container-id-1 div.sk-label input.sk-toggleable__control:checked~label.sk-toggleable__label {background-color: #d4ebff;}#sk-container-id-1 input.sk-hidden--visually {border: 0;clip: rect(1px 1px 1px 1px);clip: rect(1px, 1px, 1px, 1px);height: 1px;margin: -1px;overflow: hidden;padding: 0;position: absolute;width: 1px;}#sk-container-id-1 div.sk-estimator {font-family: monospace;background-color: #f0f8ff;border: 1px dotted black;border-radius: 0.25em;box-sizing: border-box;margin-bottom: 0.5em;}#sk-container-id-1 div.sk-estimator:hover {background-color: #d4ebff;}#sk-container-id-1 div.sk-parallel-item::after {content: \"\";width: 100%;border-bottom: 1px solid gray;flex-grow: 1;}#sk-container-id-1 div.sk-label:hover label.sk-toggleable__label {background-color: #d4ebff;}#sk-container-id-1 div.sk-serial::before {content: \"\";position: absolute;border-left: 1px solid gray;box-sizing: border-box;top: 0;bottom: 0;left: 50%;z-index: 0;}#sk-container-id-1 div.sk-serial {display: flex;flex-direction: column;align-items: center;background-color: white;padding-right: 0.2em;padding-left: 0.2em;position: relative;}#sk-container-id-1 div.sk-item {position: relative;z-index: 1;}#sk-container-id-1 div.sk-parallel {display: flex;align-items: stretch;justify-content: center;background-color: white;position: relative;}#sk-container-id-1 div.sk-item::before, #sk-container-id-1 div.sk-parallel-item::before {content: \"\";position: absolute;border-left: 1px solid gray;box-sizing: border-box;top: 0;bottom: 0;left: 50%;z-index: -1;}#sk-container-id-1 div.sk-parallel-item {display: flex;flex-direction: column;z-index: 1;position: relative;background-color: white;}#sk-container-id-1 div.sk-parallel-item:first-child::after {align-self: flex-end;width: 50%;}#sk-container-id-1 div.sk-parallel-item:last-child::after {align-self: flex-start;width: 50%;}#sk-container-id-1 div.sk-parallel-item:only-child::after {width: 0;}#sk-container-id-1 div.sk-dashed-wrapped {border: 1px dashed gray;margin: 0 0.4em 0.5em 0.4em;box-sizing: border-box;padding-bottom: 0.4em;background-color: white;}#sk-container-id-1 div.sk-label label {font-family: monospace;font-weight: bold;display: inline-block;line-height: 1.2em;}#sk-container-id-1 div.sk-label-container {text-align: center;}#sk-container-id-1 div.sk-container {/* jupyter's `normalize.less` sets `[hidden] { display: none; }` but bootstrap.min.css set `[hidden] { display: none !important; }` so we also need the `!important` here to be able to override the default hidden behavior on the sphinx rendered scikit-learn.org. See: https://github.com/scikit-learn/scikit-learn/issues/21755 */display: inline-block !important;position: relative;}#sk-container-id-1 div.sk-text-repr-fallback {display: none;}</style><div id=\"sk-container-id-1\" class=\"sk-top-container\"><div class=\"sk-text-repr-fallback\"><pre>KNeighborsClassifier()</pre><b>In a Jupyter environment, please rerun this cell to show the HTML representation or trust the notebook. <br />On GitHub, the HTML representation is unable to render, please try loading this page with nbviewer.org.</b></div><div class=\"sk-container\" hidden><div class=\"sk-item\"><div class=\"sk-estimator sk-toggleable\"><input class=\"sk-toggleable__control sk-hidden--visually\" id=\"sk-estimator-id-1\" type=\"checkbox\" checked><label for=\"sk-estimator-id-1\" class=\"sk-toggleable__label sk-toggleable__label-arrow\">KNeighborsClassifier</label><div class=\"sk-toggleable__content\"><pre>KNeighborsClassifier()</pre></div></div></div></div></div>"
            ]
          },
          "metadata": {},
          "execution_count": 11
        }
      ]
    },
    {
      "cell_type": "markdown",
      "source": [
        "Ya hemos creado y entrenado nuestro modelo. Lo que hizo fue aprender de las matrices que mostramos anteriormente y de esa manera aprende para predecir los números que se le dan.\n",
        "\n",
        "Vamos a comparar los resultados reales vs los resultados predichos por el algoritmo."
      ],
      "metadata": {
        "id": "Zkb-qlZDeHsA"
      }
    },
    {
      "cell_type": "code",
      "source": [
        "# predicciones\n",
        "predict = knn.predict(X_test)\n",
        "\n",
        "# valores reales\n",
        "esperado = y_test\n",
        "\n",
        "# comparacion\n",
        "print('valores predichos :', predict[:25])\n",
        "print('valores esperados :', esperado[:25])"
      ],
      "metadata": {
        "colab": {
          "base_uri": "https://localhost:8080/"
        },
        "id": "sp2MOImzX6-8",
        "outputId": "c355f769-c0c8-46f4-9007-56b15e45fcc6"
      },
      "execution_count": 12,
      "outputs": [
        {
          "output_type": "stream",
          "name": "stdout",
          "text": [
            "valores predichos : [6 8 5 3 5 6 6 4 5 0 2 1 8 4 5 8 1 6 7 4 3 8 0 6 1]\n",
            "valores esperados : [6 8 5 3 5 6 6 4 5 0 2 1 8 4 5 8 1 6 7 4 3 8 0 6 1]\n"
          ]
        }
      ]
    },
    {
      "cell_type": "code",
      "source": [
        "# buscar los valores erroneos\n",
        "error = [(p,e) for (p,e) in zip(predict,esperado) if p!=e]\n",
        "error"
      ],
      "metadata": {
        "colab": {
          "base_uri": "https://localhost:8080/"
        },
        "id": "hLGbFYYYX7Be",
        "outputId": "85888e4e-4786-457c-bb0d-b4cc751f3275"
      },
      "execution_count": 13,
      "outputs": [
        {
          "output_type": "execute_result",
          "data": {
            "text/plain": [
              "[(1, 8), (1, 8), (7, 4)]"
            ]
          },
          "metadata": {},
          "execution_count": 13
        }
      ]
    },
    {
      "cell_type": "markdown",
      "source": [
        "A través de la comprensión de listas podemos ver cuáles fueron los valores erroneos. Dentro de los 450 registros el algoritmo KNN solo tuvo 3 errores."
      ],
      "metadata": {
        "id": "0EM9j6KtgXbY"
      }
    },
    {
      "cell_type": "markdown",
      "source": [
        "## Etapa 6 : Evaluación del Modelo\n",
        "---\n",
        "\n",
        "Para esta etapa vamos a comprobar el desempeño de nuestro modelo, para ello vamos a evaluar si el modelo es bueno o no. Ahora queremos sacar porcentajes y ver donde se equivoco."
      ],
      "metadata": {
        "id": "j0A0XSSXgzrN"
      }
    },
    {
      "cell_type": "code",
      "source": [
        "print(f'puntuación de knn: {knn.score(X_test,y_test):.2%}')"
      ],
      "metadata": {
        "colab": {
          "base_uri": "https://localhost:8080/"
        },
        "id": "PYPsoj0hX7EC",
        "outputId": "693ba8f1-1bd1-4991-9d32-b6ecc299364b"
      },
      "execution_count": 14,
      "outputs": [
        {
          "output_type": "stream",
          "name": "stdout",
          "text": [
            "puntuación de knn: 99.33%\n"
          ]
        }
      ]
    },
    {
      "cell_type": "markdown",
      "source": [
        "Ahora vamos a hacer una matriz de confusión para ver los hits y misses para una clase dada."
      ],
      "metadata": {
        "id": "LZxfOuq2hhxU"
      }
    },
    {
      "cell_type": "code",
      "source": [
        "confusion = confusion_matrix(esperado, predict)\n",
        "confusion"
      ],
      "metadata": {
        "colab": {
          "base_uri": "https://localhost:8080/"
        },
        "id": "DgVhWeqIX7S0",
        "outputId": "783f4401-3361-47a7-be5e-01a335a13714"
      },
      "execution_count": 15,
      "outputs": [
        {
          "output_type": "execute_result",
          "data": {
            "text/plain": [
              "array([[50,  0,  0,  0,  0,  0,  0,  0,  0,  0],\n",
              "       [ 0, 47,  0,  0,  0,  0,  0,  0,  0,  0],\n",
              "       [ 0,  0, 36,  0,  0,  0,  0,  0,  0,  0],\n",
              "       [ 0,  0,  0, 41,  0,  0,  0,  0,  0,  0],\n",
              "       [ 0,  0,  0,  0, 56,  0,  0,  1,  0,  0],\n",
              "       [ 0,  0,  0,  0,  0, 41,  0,  0,  0,  0],\n",
              "       [ 0,  0,  0,  0,  0,  0, 49,  0,  0,  0],\n",
              "       [ 0,  0,  0,  0,  0,  0,  0, 34,  0,  0],\n",
              "       [ 0,  2,  0,  0,  0,  0,  0,  0, 49,  0],\n",
              "       [ 0,  0,  0,  0,  0,  0,  0,  0,  0, 44]])"
            ]
          },
          "metadata": {},
          "execution_count": 15
        }
      ]
    },
    {
      "cell_type": "markdown",
      "source": [
        "La matriz de confusión nos ayuda a entender mejor en dónde se encuentran nuestros errores. Estos son los 3 errores que mencionamos en la sección anterior y que podemos visualizar más claramente dentro de nuestra matriz."
      ],
      "metadata": {
        "id": "TwTSHacmiYk4"
      }
    },
    {
      "cell_type": "code",
      "source": [
        "# visualizar matriz de confusion\n",
        "confusion_df = pd.DataFrame(\n",
        "    confusion,\n",
        "    index=range(10),\n",
        "    columns=range(10)\n",
        "    )\n",
        "axes = sns.heatmap(\n",
        "    confusion_df,\n",
        "    annot=True,\n",
        "    cmap='nipy_spectral_r'\n",
        "    )"
      ],
      "metadata": {
        "colab": {
          "base_uri": "https://localhost:8080/",
          "height": 430
        },
        "id": "OgS0o04LhrXB",
        "outputId": "df4e7d1b-79a1-46ee-b661-e3a75e926eb6"
      },
      "execution_count": 16,
      "outputs": [
        {
          "output_type": "display_data",
          "data": {
            "text/plain": [
              "<Figure size 640x480 with 2 Axes>"
            ],
            "image/png": "[encoded data removed]"
          },
          "metadata": {}
        }
      ]
    },
    {
      "cell_type": "markdown",
      "source": [
        "## Etapa 7 : Reporte de Clasificación"
      ],
      "metadata": {
        "id": "hJO8NJiDl_Ox"
      }
    },
    {
      "cell_type": "code",
      "source": [
        "nombres = [str(digit) for digit in digits.target_names]\n",
        "\n",
        "print(\n",
        "    classification_report(\n",
        "        esperado,\n",
        "        predict,\n",
        "        target_names=nombres\n",
        "        )\n",
        "    )"
      ],
      "metadata": {
        "colab": {
          "base_uri": "https://localhost:8080/"
        },
        "id": "DJN4QPoIhrTd",
        "outputId": "5ccfac58-e1d3-43ec-e6dd-88b4009f00a8"
      },
      "execution_count": 17,
      "outputs": [
        {
          "output_type": "stream",
          "name": "stdout",
          "text": [
            "              precision    recall  f1-score   support\n",
            "\n",
            "           0       1.00      1.00      1.00        50\n",
            "           1       0.96      1.00      0.98        47\n",
            "           2       1.00      1.00      1.00        36\n",
            "           3       1.00      1.00      1.00        41\n",
            "           4       1.00      0.98      0.99        57\n",
            "           5       1.00      1.00      1.00        41\n",
            "           6       1.00      1.00      1.00        49\n",
            "           7       0.97      1.00      0.99        34\n",
            "           8       1.00      0.96      0.98        51\n",
            "           9       1.00      1.00      1.00        44\n",
            "\n",
            "    accuracy                           0.99       450\n",
            "   macro avg       0.99      0.99      0.99       450\n",
            "weighted avg       0.99      0.99      0.99       450\n",
            "\n"
          ]
        }
      ]
    },
    {
      "cell_type": "markdown",
      "source": [
        "## Etapa 8 : K-Fold Validación Cruzada\n",
        "\n",
        "A pesar de la presición de nuestro modelo, vamos a realizar un ejercicio de validación para mejorarlo aún más"
      ],
      "metadata": {
        "id": "scJuOB04ov0B"
      }
    },
    {
      "cell_type": "code",
      "source": [
        "# instanciamos la validacion\n",
        "kfold = KFold(\n",
        "    n_splits=10,\n",
        "    random_state=12345,\n",
        "    shuffle=True)"
      ],
      "metadata": {
        "id": "_L20Aed0hraN"
      },
      "execution_count": 18,
      "outputs": []
    },
    {
      "cell_type": "code",
      "source": [
        "# obtenemos la puntuación\n",
        "puntuacion = cross_val_score(\n",
        "    estimator=knn,\n",
        "    X=digits.data,\n",
        "    y=digits.target,\n",
        "    cv=kfold\n",
        ")"
      ],
      "metadata": {
        "id": "yFYTfswdhrdI"
      },
      "execution_count": 19,
      "outputs": []
    },
    {
      "cell_type": "code",
      "source": [
        "# promedio y desviación estándar de los resultados\n",
        "print('Reporte de Resultados')\n",
        "print(f'prom :{puntuacion.mean():.2}')\n",
        "print(f'desv :{puntuacion.std():.2}')"
      ],
      "metadata": {
        "colab": {
          "base_uri": "https://localhost:8080/"
        },
        "id": "bXv41PUAhriC",
        "outputId": "03d7458f-da3e-4a4f-9daf-daf4b626151a"
      },
      "execution_count": 20,
      "outputs": [
        {
          "output_type": "stream",
          "name": "stdout",
          "text": [
            "Reporte de Resultados\n",
            "prom :0.99\n",
            "desv :0.01\n"
          ]
        }
      ]
    },
    {
      "cell_type": "markdown",
      "source": [
        "## Etapa 9 : Probar Varios Modelos\n",
        "---\n",
        "\n",
        "Vamos a utilizar otros dos clasificadores que nos ayudarán a buscar una mejor respuesta o quizás no, pero no lo sabremos hasta probarlos. Estos serán:\n",
        "\n",
        "- SVC Classifier\n",
        "- GaussianNB"
      ],
      "metadata": {
        "id": "aavMD4S0fcvh"
      }
    },
    {
      "cell_type": "code",
      "source": [
        "# armamos un diccionario\n",
        "estimadores={\n",
        "    \"KNeighborsClassifier\": knn,\n",
        "    \"SVC\" : SVC(gamma=\"scale\"),\n",
        "    \"GaussianNB\": GaussianNB()\n",
        "}\n",
        "\n",
        "# ejecución de los modelos\n",
        "\n",
        "for nombreestimador,objetoestimador, in estimadores.items():\n",
        "  kfold = KFold(\n",
        "      n_splits=10,\n",
        "      random_state=12345,\n",
        "      shuffle=True\n",
        "      )\n",
        "  puntuacion = cross_val_score(\n",
        "      estimator=objetoestimador,\n",
        "      X=digits.data,\n",
        "      y=digits.target,\n",
        "      cv=kfold\n",
        "      )\n",
        "  print(\n",
        "      f'{nombreestimador:>20}'+f'Puntuación Promedio={puntuacion.mean():.2%};'+f'Desviación Estándar={puntuacion.std():.2%}'\n",
        "      )"
      ],
      "metadata": {
        "colab": {
          "base_uri": "https://localhost:8080/"
        },
        "id": "sNBeiIIop8fN",
        "outputId": "fd1340e7-9cf1-4a49-e2e2-6ddba7275a60"
      },
      "execution_count": 21,
      "outputs": [
        {
          "output_type": "stream",
          "name": "stdout",
          "text": [
            "KNeighborsClassifierPuntuación Promedio=98.83%;Desviación Estándar=1.01%\n",
            "                 SVCPuntuación Promedio=98.89%;Desviación Estándar=0.90%\n",
            "          GaussianNBPuntuación Promedio=84.19%;Desviación Estándar=3.42%\n"
          ]
        }
      ]
    },
    {
      "cell_type": "markdown",
      "source": [
        "## Etapa 10 : Ajustar Hiperparámetros\n",
        "---\n",
        "\n",
        "Aunque ya contamos en sí con un buen modelo, vamos a realizar un ajuste de hiperparámetros para mejorar la exactitud de nuestro modelo."
      ],
      "metadata": {
        "id": "5Ss5tExainBL"
      }
    },
    {
      "cell_type": "code",
      "source": [
        "for k in range(1,20,2):\n",
        "  kfold = KFold(\n",
        "      n_splits=10,\n",
        "      random_state=12345,\n",
        "      shuffle=True\n",
        "      )\n",
        "  knn = KNeighborsClassifier(n_neighbors=k)\n",
        "  puntuacion=cross_val_score(\n",
        "      estimator=knn,\n",
        "      X=digits.data,\n",
        "      y=digits.target,\n",
        "      cv=kfold\n",
        "      )\n",
        "  print(\n",
        "      f'k={k:<20};'+f'Puntuación Promedio={puntuacion.mean():.2%};'+f'Desviación Estándar={puntuacion.std():.2%}'\n",
        "      )"
      ],
      "metadata": {
        "colab": {
          "base_uri": "https://localhost:8080/"
        },
        "id": "hl7UuR7_fbzV",
        "outputId": "b410182f-5cec-49b1-fb14-6a419f93918f"
      },
      "execution_count": 22,
      "outputs": [
        {
          "output_type": "stream",
          "name": "stdout",
          "text": [
            "k=1                   ;Puntuación Promedio=98.94%;Desviación Estándar=0.88%\n",
            "k=3                   ;Puntuación Promedio=98.89%;Desviación Estándar=0.97%\n",
            "k=5                   ;Puntuación Promedio=98.83%;Desviación Estándar=1.01%\n",
            "k=7                   ;Puntuación Promedio=98.61%;Desviación Estándar=0.94%\n",
            "k=9                   ;Puntuación Promedio=98.33%;Desviación Estándar=1.03%\n",
            "k=11                  ;Puntuación Promedio=98.33%;Desviación Estándar=1.14%\n",
            "k=13                  ;Puntuación Promedio=98.33%;Desviación Estándar=1.22%\n",
            "k=15                  ;Puntuación Promedio=98.16%;Desviación Estándar=1.20%\n",
            "k=17                  ;Puntuación Promedio=97.83%;Desviación Estándar=1.28%\n",
            "k=19                  ;Puntuación Promedio=97.77%;Desviación Estándar=1.41%\n"
          ]
        }
      ]
    },
    {
      "cell_type": "markdown",
      "source": [
        "## Conclusiones\n",
        "\n",
        "Después de pasar un tiempo trabajando con los clasificadores de scikit-learn hemos visto lo siguiente:\n",
        "\n",
        "- Hemos realizado un proyecto sencillo de machine learning en el cuál se ha observado el trabajo de algoritmos como KNN, SVC y Gaussian.\n",
        "- Durante este proyecto hemos realizado la evaluación de los modelos utilizando métricas como la matriz de confusión, accuracy, presicion, recall y f1-score.\n",
        "- Hemos visualizado el dataset a través de herramientas como seaborn donde podemos ver los números en imágenes de las que aprenderán los algoritmos.\n",
        "- Encontramos que el mejor algoritmo para este proyecto fue SVC Classifier con 98.89% puntos.\n",
        "- También descubrimos que al ajustar los hiperparámetros del número de hojas (folds) también disminuye la puntuación promedio de nuestro algoritmo.\n",
        "\n",
        "Espero te haya gustado este proyecto, recuerda que este fue solo una práctica para observar cómo es que trabajan nuestros algoritmos, si deseas ver esto aplicado a un caso real puedes ver alguno de mis proyectos de machine learning, saludos."
      ],
      "metadata": {
        "id": "AotQGhjrmM85"
      }
    }
  ]
}